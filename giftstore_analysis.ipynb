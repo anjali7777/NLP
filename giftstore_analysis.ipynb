{
 "cells": [
  {
   "cell_type": "markdown",
   "metadata": {},
   "source": [
    "Problem Statement:\n",
    "\n",
    "Identify the trends in sub-areas of marketing and e-commerce with combination of exploratory topic models and powerful predictive marketing models."
   ]
  },
  {
   "cell_type": "markdown",
   "metadata": {},
   "source": [
    "Context of Data\n",
    "\n",
    "Company - UK-based and registered non-store online retail\n",
    "\n",
    "Products for selling - Mainly all-occasion gifts\n",
    "\n",
    "Customers - Most are wholesalers (local or international)\n",
    "\n",
    "Transactions Period - 1st Dec 2010 - 9th Dec 2011 (One year)"
   ]
  },
  {
   "cell_type": "markdown",
   "metadata": {},
   "source": []
  },
  {
   "cell_type": "code",
   "execution_count": 1,
   "metadata": {},
   "outputs": [],
   "source": [
    "import pandas as pd \n",
    "import numpy as np\n",
    "import matplotlib.pyplot as plt\n",
    "import seaborn as sns \n",
    "\n",
    "import warnings\n",
    "# current version of seaborn generates a bunch of warnings that we'll ignore\n",
    "warnings.filterwarnings('ignore')\n",
    "sns.set_style('whitegrid')\n",
    "\n",
    "import missingno as msno # missing data visualization module for Python\n",
    "import pandas_profiling\n",
    "\n",
    "import gc\n",
    "import datetime\n",
    "\n",
    "%matplotlib inline\n",
    "color = sns.color_palette()"
   ]
  },
  {
   "cell_type": "code",
   "execution_count": 2,
   "metadata": {},
   "outputs": [],
   "source": [
    "#pd.set_option('display.max_rows', 10000)\n",
    "#pd.set_option('display.max_columns', 100)"
   ]
  },
  {
   "cell_type": "code",
   "execution_count": 3,
   "metadata": {},
   "outputs": [
    {
     "data": {
      "text/html": [
       "<div>\n",
       "<style scoped>\n",
       "    .dataframe tbody tr th:only-of-type {\n",
       "        vertical-align: middle;\n",
       "    }\n",
       "\n",
       "    .dataframe tbody tr th {\n",
       "        vertical-align: top;\n",
       "    }\n",
       "\n",
       "    .dataframe thead th {\n",
       "        text-align: right;\n",
       "    }\n",
       "</style>\n",
       "<table border=\"1\" class=\"dataframe\">\n",
       "  <thead>\n",
       "    <tr style=\"text-align: right;\">\n",
       "      <th></th>\n",
       "      <th>InvoiceNo</th>\n",
       "      <th>StockCode</th>\n",
       "      <th>Description</th>\n",
       "      <th>Quantity</th>\n",
       "      <th>InvoiceDate</th>\n",
       "      <th>UnitPrice</th>\n",
       "      <th>CustomerID</th>\n",
       "      <th>Country</th>\n",
       "    </tr>\n",
       "  </thead>\n",
       "  <tbody>\n",
       "    <tr>\n",
       "      <th>0</th>\n",
       "      <td>536365</td>\n",
       "      <td>85123A</td>\n",
       "      <td>WHITE HANGING HEART T-LIGHT HOLDER</td>\n",
       "      <td>6</td>\n",
       "      <td>12/1/2010 8:26</td>\n",
       "      <td>2.55</td>\n",
       "      <td>17850.0</td>\n",
       "      <td>United Kingdom</td>\n",
       "    </tr>\n",
       "    <tr>\n",
       "      <th>1</th>\n",
       "      <td>536365</td>\n",
       "      <td>71053</td>\n",
       "      <td>WHITE METAL LANTERN</td>\n",
       "      <td>6</td>\n",
       "      <td>12/1/2010 8:26</td>\n",
       "      <td>3.39</td>\n",
       "      <td>17850.0</td>\n",
       "      <td>United Kingdom</td>\n",
       "    </tr>\n",
       "    <tr>\n",
       "      <th>2</th>\n",
       "      <td>536365</td>\n",
       "      <td>84406B</td>\n",
       "      <td>CREAM CUPID HEARTS COAT HANGER</td>\n",
       "      <td>8</td>\n",
       "      <td>12/1/2010 8:26</td>\n",
       "      <td>2.75</td>\n",
       "      <td>17850.0</td>\n",
       "      <td>United Kingdom</td>\n",
       "    </tr>\n",
       "    <tr>\n",
       "      <th>3</th>\n",
       "      <td>536365</td>\n",
       "      <td>84029G</td>\n",
       "      <td>KNITTED UNION FLAG HOT WATER BOTTLE</td>\n",
       "      <td>6</td>\n",
       "      <td>12/1/2010 8:26</td>\n",
       "      <td>3.39</td>\n",
       "      <td>17850.0</td>\n",
       "      <td>United Kingdom</td>\n",
       "    </tr>\n",
       "    <tr>\n",
       "      <th>4</th>\n",
       "      <td>536365</td>\n",
       "      <td>84029E</td>\n",
       "      <td>RED WOOLLY HOTTIE WHITE HEART.</td>\n",
       "      <td>6</td>\n",
       "      <td>12/1/2010 8:26</td>\n",
       "      <td>3.39</td>\n",
       "      <td>17850.0</td>\n",
       "      <td>United Kingdom</td>\n",
       "    </tr>\n",
       "  </tbody>\n",
       "</table>\n",
       "</div>"
      ],
      "text/plain": [
       "  InvoiceNo StockCode                          Description  Quantity  \\\n",
       "0    536365    85123A   WHITE HANGING HEART T-LIGHT HOLDER         6   \n",
       "1    536365     71053                  WHITE METAL LANTERN         6   \n",
       "2    536365    84406B       CREAM CUPID HEARTS COAT HANGER         8   \n",
       "3    536365    84029G  KNITTED UNION FLAG HOT WATER BOTTLE         6   \n",
       "4    536365    84029E       RED WOOLLY HOTTIE WHITE HEART.         6   \n",
       "\n",
       "      InvoiceDate  UnitPrice  CustomerID         Country  \n",
       "0  12/1/2010 8:26       2.55     17850.0  United Kingdom  \n",
       "1  12/1/2010 8:26       3.39     17850.0  United Kingdom  \n",
       "2  12/1/2010 8:26       2.75     17850.0  United Kingdom  \n",
       "3  12/1/2010 8:26       3.39     17850.0  United Kingdom  \n",
       "4  12/1/2010 8:26       3.39     17850.0  United Kingdom  "
      ]
     },
     "execution_count": 3,
     "metadata": {},
     "output_type": "execute_result"
    }
   ],
   "source": [
    "df = pd.read_csv('data.csv', encoding = 'ISO-8859-1')\n",
    "df.head()"
   ]
  },
  {
   "cell_type": "code",
   "execution_count": 4,
   "metadata": {},
   "outputs": [],
   "source": [
    "# change the column names\n",
    "df.rename(index=str, columns={'InvoiceNo': 'invoice_num',\n",
    "                              'StockCode' : 'stock_code',\n",
    "                              'Description' : 'description',\n",
    "                              'Quantity' : 'quantity',\n",
    "                              'InvoiceDate' : 'invoice_date',\n",
    "                              'UnitPrice' : 'unit_price',\n",
    "                              'CustomerID' : 'cust_id',\n",
    "                              'Country' : 'country'}, inplace=True)"
   ]
  },
  {
   "cell_type": "code",
   "execution_count": null,
   "metadata": {},
   "outputs": [],
   "source": []
  },
  {
   "cell_type": "code",
   "execution_count": 5,
   "metadata": {},
   "outputs": [
    {
     "data": {
      "text/plain": [
       "cust_id         135080\n",
       "description       1454\n",
       "country              0\n",
       "unit_price           0\n",
       "invoice_date         0\n",
       "quantity             0\n",
       "stock_code           0\n",
       "invoice_num          0\n",
       "dtype: int64"
      ]
     },
     "execution_count": 5,
     "metadata": {},
     "output_type": "execute_result"
    }
   ],
   "source": [
    "# check missing values for each column \n",
    "df.isnull().sum().sort_values(ascending=False)"
   ]
  },
  {
   "cell_type": "code",
   "execution_count": 6,
   "metadata": {},
   "outputs": [],
   "source": [
    "# change the invoice_date format - String to Timestamp format\n",
    "df['invoice_date'] = pd.to_datetime(df.invoice_date, format='%m/%d/%Y %H:%M')"
   ]
  },
  {
   "cell_type": "code",
   "execution_count": 7,
   "metadata": {},
   "outputs": [],
   "source": [
    "# change description - UPPER case to LOWER case\n",
    "df['description'] = df.description.str.lower()"
   ]
  },
  {
   "cell_type": "markdown",
   "metadata": {},
   "source": [
    "Remove row with missing values"
   ]
  },
  {
   "cell_type": "code",
   "execution_count": 8,
   "metadata": {},
   "outputs": [
    {
     "data": {
      "text/html": [
       "<div>\n",
       "<style scoped>\n",
       "    .dataframe tbody tr th:only-of-type {\n",
       "        vertical-align: middle;\n",
       "    }\n",
       "\n",
       "    .dataframe tbody tr th {\n",
       "        vertical-align: top;\n",
       "    }\n",
       "\n",
       "    .dataframe thead th {\n",
       "        text-align: right;\n",
       "    }\n",
       "</style>\n",
       "<table border=\"1\" class=\"dataframe\">\n",
       "  <thead>\n",
       "    <tr style=\"text-align: right;\">\n",
       "      <th></th>\n",
       "      <th>invoice_num</th>\n",
       "      <th>stock_code</th>\n",
       "      <th>description</th>\n",
       "      <th>quantity</th>\n",
       "      <th>invoice_date</th>\n",
       "      <th>unit_price</th>\n",
       "      <th>cust_id</th>\n",
       "      <th>country</th>\n",
       "    </tr>\n",
       "  </thead>\n",
       "  <tbody>\n",
       "    <tr>\n",
       "      <th>0</th>\n",
       "      <td>536365</td>\n",
       "      <td>85123A</td>\n",
       "      <td>white hanging heart t-light holder</td>\n",
       "      <td>6</td>\n",
       "      <td>2010-12-01 08:26:00</td>\n",
       "      <td>2.55</td>\n",
       "      <td>17850.0</td>\n",
       "      <td>United Kingdom</td>\n",
       "    </tr>\n",
       "    <tr>\n",
       "      <th>1</th>\n",
       "      <td>536365</td>\n",
       "      <td>71053</td>\n",
       "      <td>white metal lantern</td>\n",
       "      <td>6</td>\n",
       "      <td>2010-12-01 08:26:00</td>\n",
       "      <td>3.39</td>\n",
       "      <td>17850.0</td>\n",
       "      <td>United Kingdom</td>\n",
       "    </tr>\n",
       "  </tbody>\n",
       "</table>\n",
       "</div>"
      ],
      "text/plain": [
       "  invoice_num stock_code                         description  quantity  \\\n",
       "0      536365     85123A  white hanging heart t-light holder         6   \n",
       "1      536365      71053                 white metal lantern         6   \n",
       "\n",
       "         invoice_date  unit_price  cust_id         country  \n",
       "0 2010-12-01 08:26:00        2.55  17850.0  United Kingdom  \n",
       "1 2010-12-01 08:26:00        3.39  17850.0  United Kingdom  "
      ]
     },
     "execution_count": 8,
     "metadata": {},
     "output_type": "execute_result"
    }
   ],
   "source": [
    "# df_new after dropping all NaN values\n",
    "df_new = df.dropna()\n",
    "df_new.head(2)"
   ]
  },
  {
   "cell_type": "code",
   "execution_count": 9,
   "metadata": {},
   "outputs": [
    {
     "data": {
      "text/plain": [
       "country         0\n",
       "cust_id         0\n",
       "unit_price      0\n",
       "invoice_date    0\n",
       "quantity        0\n",
       "description     0\n",
       "stock_code      0\n",
       "invoice_num     0\n",
       "dtype: int64"
      ]
     },
     "execution_count": 9,
     "metadata": {},
     "output_type": "execute_result"
    }
   ],
   "source": [
    "# check missing values for each column after drop\n",
    "df_new.isnull().sum().sort_values(ascending=False)"
   ]
  },
  {
   "cell_type": "code",
   "execution_count": 10,
   "metadata": {},
   "outputs": [],
   "source": [
    "# change columns tyoe - String to Int type \n",
    "df_new['cust_id'] = df_new['cust_id'].astype('int64')"
   ]
  },
  {
   "cell_type": "code",
   "execution_count": 11,
   "metadata": {},
   "outputs": [
    {
     "data": {
      "text/html": [
       "<div>\n",
       "<style scoped>\n",
       "    .dataframe tbody tr th:only-of-type {\n",
       "        vertical-align: middle;\n",
       "    }\n",
       "\n",
       "    .dataframe tbody tr th {\n",
       "        vertical-align: top;\n",
       "    }\n",
       "\n",
       "    .dataframe thead th {\n",
       "        text-align: right;\n",
       "    }\n",
       "</style>\n",
       "<table border=\"1\" class=\"dataframe\">\n",
       "  <thead>\n",
       "    <tr style=\"text-align: right;\">\n",
       "      <th></th>\n",
       "      <th>quantity</th>\n",
       "      <th>unit_price</th>\n",
       "      <th>cust_id</th>\n",
       "    </tr>\n",
       "  </thead>\n",
       "  <tbody>\n",
       "    <tr>\n",
       "      <th>count</th>\n",
       "      <td>406829.00</td>\n",
       "      <td>406829.00</td>\n",
       "      <td>406829.00</td>\n",
       "    </tr>\n",
       "    <tr>\n",
       "      <th>mean</th>\n",
       "      <td>12.06</td>\n",
       "      <td>3.46</td>\n",
       "      <td>15287.69</td>\n",
       "    </tr>\n",
       "    <tr>\n",
       "      <th>std</th>\n",
       "      <td>248.69</td>\n",
       "      <td>69.32</td>\n",
       "      <td>1713.60</td>\n",
       "    </tr>\n",
       "    <tr>\n",
       "      <th>min</th>\n",
       "      <td>-80995.00</td>\n",
       "      <td>0.00</td>\n",
       "      <td>12346.00</td>\n",
       "    </tr>\n",
       "    <tr>\n",
       "      <th>25%</th>\n",
       "      <td>2.00</td>\n",
       "      <td>1.25</td>\n",
       "      <td>13953.00</td>\n",
       "    </tr>\n",
       "    <tr>\n",
       "      <th>50%</th>\n",
       "      <td>5.00</td>\n",
       "      <td>1.95</td>\n",
       "      <td>15152.00</td>\n",
       "    </tr>\n",
       "    <tr>\n",
       "      <th>75%</th>\n",
       "      <td>12.00</td>\n",
       "      <td>3.75</td>\n",
       "      <td>16791.00</td>\n",
       "    </tr>\n",
       "    <tr>\n",
       "      <th>max</th>\n",
       "      <td>80995.00</td>\n",
       "      <td>38970.00</td>\n",
       "      <td>18287.00</td>\n",
       "    </tr>\n",
       "  </tbody>\n",
       "</table>\n",
       "</div>"
      ],
      "text/plain": [
       "        quantity  unit_price    cust_id\n",
       "count  406829.00   406829.00  406829.00\n",
       "mean       12.06        3.46   15287.69\n",
       "std       248.69       69.32    1713.60\n",
       "min    -80995.00        0.00   12346.00\n",
       "25%         2.00        1.25   13953.00\n",
       "50%         5.00        1.95   15152.00\n",
       "75%        12.00        3.75   16791.00\n",
       "max     80995.00    38970.00   18287.00"
      ]
     },
     "execution_count": 11,
     "metadata": {},
     "output_type": "execute_result"
    }
   ],
   "source": [
    "df_new.describe().round(2)"
   ]
  },
  {
   "cell_type": "markdown",
   "metadata": {},
   "source": [
    "Remove quantity with negative values"
   ]
  },
  {
   "cell_type": "code",
   "execution_count": 12,
   "metadata": {},
   "outputs": [],
   "source": [
    "df_new = df_new[df_new.quantity > 0]\n"
   ]
  },
  {
   "cell_type": "code",
   "execution_count": 13,
   "metadata": {},
   "outputs": [
    {
     "data": {
      "text/html": [
       "<div>\n",
       "<style scoped>\n",
       "    .dataframe tbody tr th:only-of-type {\n",
       "        vertical-align: middle;\n",
       "    }\n",
       "\n",
       "    .dataframe tbody tr th {\n",
       "        vertical-align: top;\n",
       "    }\n",
       "\n",
       "    .dataframe thead th {\n",
       "        text-align: right;\n",
       "    }\n",
       "</style>\n",
       "<table border=\"1\" class=\"dataframe\">\n",
       "  <thead>\n",
       "    <tr style=\"text-align: right;\">\n",
       "      <th></th>\n",
       "      <th>quantity</th>\n",
       "      <th>unit_price</th>\n",
       "      <th>cust_id</th>\n",
       "    </tr>\n",
       "  </thead>\n",
       "  <tbody>\n",
       "    <tr>\n",
       "      <th>count</th>\n",
       "      <td>397924.00</td>\n",
       "      <td>397924.00</td>\n",
       "      <td>397924.00</td>\n",
       "    </tr>\n",
       "    <tr>\n",
       "      <th>mean</th>\n",
       "      <td>13.02</td>\n",
       "      <td>3.12</td>\n",
       "      <td>15294.32</td>\n",
       "    </tr>\n",
       "    <tr>\n",
       "      <th>std</th>\n",
       "      <td>180.42</td>\n",
       "      <td>22.10</td>\n",
       "      <td>1713.17</td>\n",
       "    </tr>\n",
       "    <tr>\n",
       "      <th>min</th>\n",
       "      <td>1.00</td>\n",
       "      <td>0.00</td>\n",
       "      <td>12346.00</td>\n",
       "    </tr>\n",
       "    <tr>\n",
       "      <th>25%</th>\n",
       "      <td>2.00</td>\n",
       "      <td>1.25</td>\n",
       "      <td>13969.00</td>\n",
       "    </tr>\n",
       "    <tr>\n",
       "      <th>50%</th>\n",
       "      <td>6.00</td>\n",
       "      <td>1.95</td>\n",
       "      <td>15159.00</td>\n",
       "    </tr>\n",
       "    <tr>\n",
       "      <th>75%</th>\n",
       "      <td>12.00</td>\n",
       "      <td>3.75</td>\n",
       "      <td>16795.00</td>\n",
       "    </tr>\n",
       "    <tr>\n",
       "      <th>max</th>\n",
       "      <td>80995.00</td>\n",
       "      <td>8142.75</td>\n",
       "      <td>18287.00</td>\n",
       "    </tr>\n",
       "  </tbody>\n",
       "</table>\n",
       "</div>"
      ],
      "text/plain": [
       "        quantity  unit_price    cust_id\n",
       "count  397924.00   397924.00  397924.00\n",
       "mean       13.02        3.12   15294.32\n",
       "std       180.42       22.10    1713.17\n",
       "min         1.00        0.00   12346.00\n",
       "25%         2.00        1.25   13969.00\n",
       "50%         6.00        1.95   15159.00\n",
       "75%        12.00        3.75   16795.00\n",
       "max     80995.00     8142.75   18287.00"
      ]
     },
     "execution_count": 13,
     "metadata": {},
     "output_type": "execute_result"
    }
   ],
   "source": [
    "df_new.describe().round(2)"
   ]
  },
  {
   "cell_type": "markdown",
   "metadata": {},
   "source": [
    "Add column - amount_spent"
   ]
  },
  {
   "cell_type": "code",
   "execution_count": 14,
   "metadata": {},
   "outputs": [],
   "source": [
    "df_new['amount_spent'] = df_new['quantity'] * df_new['unit_price']"
   ]
  },
  {
   "cell_type": "code",
   "execution_count": 15,
   "metadata": {},
   "outputs": [],
   "source": [
    "# rearrange all the columns for easy reference\n",
    "df_new = df_new[['invoice_num','invoice_date','stock_code','description','quantity','unit_price','amount_spent','cust_id','country']]"
   ]
  },
  {
   "cell_type": "markdown",
   "metadata": {},
   "source": [
    "Add the columns= month, day and hour of invoice"
   ]
  },
  {
   "cell_type": "code",
   "execution_count": 16,
   "metadata": {},
   "outputs": [],
   "source": [
    "df_new.insert(loc=2, column='year_month', value=df_new['invoice_date'].map(lambda x: 100*x.year + x.month))\n",
    "df_new.insert(loc=3, column='month', value=df_new.invoice_date.dt.month)\n",
    "df_new.insert(loc=4, column='day', value=(df_new.invoice_date.dt.dayofweek)+1)\n",
    "df_new.insert(loc=5, column='hour', value=df_new.invoice_date.dt.hour)"
   ]
  },
  {
   "cell_type": "code",
   "execution_count": 17,
   "metadata": {},
   "outputs": [
    {
     "data": {
      "text/html": [
       "<div>\n",
       "<style scoped>\n",
       "    .dataframe tbody tr th:only-of-type {\n",
       "        vertical-align: middle;\n",
       "    }\n",
       "\n",
       "    .dataframe tbody tr th {\n",
       "        vertical-align: top;\n",
       "    }\n",
       "\n",
       "    .dataframe thead th {\n",
       "        text-align: right;\n",
       "    }\n",
       "</style>\n",
       "<table border=\"1\" class=\"dataframe\">\n",
       "  <thead>\n",
       "    <tr style=\"text-align: right;\">\n",
       "      <th></th>\n",
       "      <th>invoice_num</th>\n",
       "      <th>invoice_date</th>\n",
       "      <th>year_month</th>\n",
       "      <th>month</th>\n",
       "      <th>day</th>\n",
       "      <th>hour</th>\n",
       "      <th>stock_code</th>\n",
       "      <th>description</th>\n",
       "      <th>quantity</th>\n",
       "      <th>unit_price</th>\n",
       "      <th>amount_spent</th>\n",
       "      <th>cust_id</th>\n",
       "      <th>country</th>\n",
       "    </tr>\n",
       "  </thead>\n",
       "  <tbody>\n",
       "    <tr>\n",
       "      <th>0</th>\n",
       "      <td>536365</td>\n",
       "      <td>2010-12-01 08:26:00</td>\n",
       "      <td>201012</td>\n",
       "      <td>12</td>\n",
       "      <td>3</td>\n",
       "      <td>8</td>\n",
       "      <td>85123A</td>\n",
       "      <td>white hanging heart t-light holder</td>\n",
       "      <td>6</td>\n",
       "      <td>2.55</td>\n",
       "      <td>15.30</td>\n",
       "      <td>17850</td>\n",
       "      <td>United Kingdom</td>\n",
       "    </tr>\n",
       "    <tr>\n",
       "      <th>1</th>\n",
       "      <td>536365</td>\n",
       "      <td>2010-12-01 08:26:00</td>\n",
       "      <td>201012</td>\n",
       "      <td>12</td>\n",
       "      <td>3</td>\n",
       "      <td>8</td>\n",
       "      <td>71053</td>\n",
       "      <td>white metal lantern</td>\n",
       "      <td>6</td>\n",
       "      <td>3.39</td>\n",
       "      <td>20.34</td>\n",
       "      <td>17850</td>\n",
       "      <td>United Kingdom</td>\n",
       "    </tr>\n",
       "    <tr>\n",
       "      <th>2</th>\n",
       "      <td>536365</td>\n",
       "      <td>2010-12-01 08:26:00</td>\n",
       "      <td>201012</td>\n",
       "      <td>12</td>\n",
       "      <td>3</td>\n",
       "      <td>8</td>\n",
       "      <td>84406B</td>\n",
       "      <td>cream cupid hearts coat hanger</td>\n",
       "      <td>8</td>\n",
       "      <td>2.75</td>\n",
       "      <td>22.00</td>\n",
       "      <td>17850</td>\n",
       "      <td>United Kingdom</td>\n",
       "    </tr>\n",
       "  </tbody>\n",
       "</table>\n",
       "</div>"
      ],
      "text/plain": [
       "  invoice_num        invoice_date  year_month  month  day  hour stock_code  \\\n",
       "0      536365 2010-12-01 08:26:00      201012     12    3     8     85123A   \n",
       "1      536365 2010-12-01 08:26:00      201012     12    3     8      71053   \n",
       "2      536365 2010-12-01 08:26:00      201012     12    3     8     84406B   \n",
       "\n",
       "                          description  quantity  unit_price  amount_spent  \\\n",
       "0  white hanging heart t-light holder         6        2.55         15.30   \n",
       "1                 white metal lantern         6        3.39         20.34   \n",
       "2      cream cupid hearts coat hanger         8        2.75         22.00   \n",
       "\n",
       "   cust_id         country  \n",
       "0    17850  United Kingdom  \n",
       "1    17850  United Kingdom  \n",
       "2    17850  United Kingdom  "
      ]
     },
     "execution_count": 17,
     "metadata": {},
     "output_type": "execute_result"
    }
   ],
   "source": [
    "df_new.head(3)"
   ]
  },
  {
   "cell_type": "markdown",
   "metadata": {},
   "source": []
  },
  {
   "cell_type": "markdown",
   "metadata": {},
   "source": [
    "Number of orders made by the each customer"
   ]
  },
  {
   "cell_type": "code",
   "execution_count": 18,
   "metadata": {},
   "outputs": [
    {
     "data": {
      "text/html": [
       "<div>\n",
       "<style scoped>\n",
       "    .dataframe tbody tr th:only-of-type {\n",
       "        vertical-align: middle;\n",
       "    }\n",
       "\n",
       "    .dataframe tbody tr th {\n",
       "        vertical-align: top;\n",
       "    }\n",
       "\n",
       "    .dataframe thead th {\n",
       "        text-align: right;\n",
       "    }\n",
       "</style>\n",
       "<table border=\"1\" class=\"dataframe\">\n",
       "  <thead>\n",
       "    <tr style=\"text-align: right;\">\n",
       "      <th></th>\n",
       "      <th>cust_id</th>\n",
       "      <th>country</th>\n",
       "      <th>invoice_num</th>\n",
       "    </tr>\n",
       "  </thead>\n",
       "  <tbody>\n",
       "    <tr>\n",
       "      <th>0</th>\n",
       "      <td>12346</td>\n",
       "      <td>United Kingdom</td>\n",
       "      <td>1</td>\n",
       "    </tr>\n",
       "    <tr>\n",
       "      <th>1</th>\n",
       "      <td>12347</td>\n",
       "      <td>Iceland</td>\n",
       "      <td>182</td>\n",
       "    </tr>\n",
       "    <tr>\n",
       "      <th>2</th>\n",
       "      <td>12348</td>\n",
       "      <td>Finland</td>\n",
       "      <td>31</td>\n",
       "    </tr>\n",
       "    <tr>\n",
       "      <th>3</th>\n",
       "      <td>12349</td>\n",
       "      <td>Italy</td>\n",
       "      <td>73</td>\n",
       "    </tr>\n",
       "    <tr>\n",
       "      <th>4</th>\n",
       "      <td>12350</td>\n",
       "      <td>Norway</td>\n",
       "      <td>17</td>\n",
       "    </tr>\n",
       "  </tbody>\n",
       "</table>\n",
       "</div>"
      ],
      "text/plain": [
       "   cust_id         country  invoice_num\n",
       "0    12346  United Kingdom            1\n",
       "1    12347         Iceland          182\n",
       "2    12348         Finland           31\n",
       "3    12349           Italy           73\n",
       "4    12350          Norway           17"
      ]
     },
     "execution_count": 18,
     "metadata": {},
     "output_type": "execute_result"
    }
   ],
   "source": [
    "df_new.groupby(by=['cust_id','country'], as_index=False)['invoice_num'].count().head()"
   ]
  },
  {
   "cell_type": "code",
   "execution_count": 19,
   "metadata": {},
   "outputs": [],
   "source": [
    "#Number of orders for different customer\n",
    "#orders = df_new.groupby(by=['cust_id','country'], as_index=False)['invoice_num'].count()\n",
    "\n",
    "#plt.subplots(figsize=(15,6))\n",
    "#plt.plot(orders.cust_id, orders.invoice_num)\n",
    "#plt.xlabel('Customers ID')\n",
    "#plt.ylabel('Number of Orders')\n",
    "#plt.title('Number of Orders for different Customers')\n",
    "#plt.show()"
   ]
  },
  {
   "cell_type": "markdown",
   "metadata": {},
   "source": [
    "\n",
    "\n",
    "The TOP 5 customers with most number of orders..."
   ]
  },
  {
   "cell_type": "code",
   "execution_count": 20,
   "metadata": {},
   "outputs": [
    {
     "data": {
      "text/html": [
       "<div>\n",
       "<style scoped>\n",
       "    .dataframe tbody tr th:only-of-type {\n",
       "        vertical-align: middle;\n",
       "    }\n",
       "\n",
       "    .dataframe tbody tr th {\n",
       "        vertical-align: top;\n",
       "    }\n",
       "\n",
       "    .dataframe thead th {\n",
       "        text-align: right;\n",
       "    }\n",
       "</style>\n",
       "<table border=\"1\" class=\"dataframe\">\n",
       "  <thead>\n",
       "    <tr style=\"text-align: right;\">\n",
       "      <th></th>\n",
       "      <th>cust_id</th>\n",
       "      <th>country</th>\n",
       "      <th>invoice_num</th>\n",
       "    </tr>\n",
       "  </thead>\n",
       "  <tbody>\n",
       "    <tr>\n",
       "      <th>4019</th>\n",
       "      <td>17841</td>\n",
       "      <td>United Kingdom</td>\n",
       "      <td>7847</td>\n",
       "    </tr>\n",
       "    <tr>\n",
       "      <th>1888</th>\n",
       "      <td>14911</td>\n",
       "      <td>EIRE</td>\n",
       "      <td>5677</td>\n",
       "    </tr>\n",
       "    <tr>\n",
       "      <th>1298</th>\n",
       "      <td>14096</td>\n",
       "      <td>United Kingdom</td>\n",
       "      <td>5111</td>\n",
       "    </tr>\n",
       "    <tr>\n",
       "      <th>334</th>\n",
       "      <td>12748</td>\n",
       "      <td>United Kingdom</td>\n",
       "      <td>4596</td>\n",
       "    </tr>\n",
       "    <tr>\n",
       "      <th>1670</th>\n",
       "      <td>14606</td>\n",
       "      <td>United Kingdom</td>\n",
       "      <td>2700</td>\n",
       "    </tr>\n",
       "  </tbody>\n",
       "</table>\n",
       "</div>"
      ],
      "text/plain": [
       "      cust_id         country  invoice_num\n",
       "4019    17841  United Kingdom         7847\n",
       "1888    14911            EIRE         5677\n",
       "1298    14096  United Kingdom         5111\n",
       "334     12748  United Kingdom         4596\n",
       "1670    14606  United Kingdom         2700"
      ]
     },
     "execution_count": 20,
     "metadata": {},
     "output_type": "execute_result"
    }
   ],
   "source": [
    "\n",
    "orders = df_new.groupby(by=['cust_id','country'], as_index=False)['invoice_num'].count()\n",
    "orders.sort_values(by='invoice_num', ascending=False).head()"
   ]
  },
  {
   "cell_type": "markdown",
   "metadata": {},
   "source": [
    "Money spent by the customers\n"
   ]
  },
  {
   "cell_type": "markdown",
   "metadata": {},
   "source": []
  },
  {
   "cell_type": "code",
   "execution_count": 21,
   "metadata": {},
   "outputs": [
    {
     "name": "stdout",
     "output_type": "stream",
     "text": [
      "The TOP 5 customers with highest money spent...\n"
     ]
    },
    {
     "data": {
      "text/html": [
       "<div>\n",
       "<style scoped>\n",
       "    .dataframe tbody tr th:only-of-type {\n",
       "        vertical-align: middle;\n",
       "    }\n",
       "\n",
       "    .dataframe tbody tr th {\n",
       "        vertical-align: top;\n",
       "    }\n",
       "\n",
       "    .dataframe thead th {\n",
       "        text-align: right;\n",
       "    }\n",
       "</style>\n",
       "<table border=\"1\" class=\"dataframe\">\n",
       "  <thead>\n",
       "    <tr style=\"text-align: right;\">\n",
       "      <th></th>\n",
       "      <th>cust_id</th>\n",
       "      <th>country</th>\n",
       "      <th>amount_spent</th>\n",
       "    </tr>\n",
       "  </thead>\n",
       "  <tbody>\n",
       "    <tr>\n",
       "      <th>1698</th>\n",
       "      <td>14646</td>\n",
       "      <td>Netherlands</td>\n",
       "      <td>280206.02</td>\n",
       "    </tr>\n",
       "    <tr>\n",
       "      <th>4210</th>\n",
       "      <td>18102</td>\n",
       "      <td>United Kingdom</td>\n",
       "      <td>259657.30</td>\n",
       "    </tr>\n",
       "    <tr>\n",
       "      <th>3737</th>\n",
       "      <td>17450</td>\n",
       "      <td>United Kingdom</td>\n",
       "      <td>194550.79</td>\n",
       "    </tr>\n",
       "    <tr>\n",
       "      <th>3017</th>\n",
       "      <td>16446</td>\n",
       "      <td>United Kingdom</td>\n",
       "      <td>168472.50</td>\n",
       "    </tr>\n",
       "    <tr>\n",
       "      <th>1888</th>\n",
       "      <td>14911</td>\n",
       "      <td>EIRE</td>\n",
       "      <td>143825.06</td>\n",
       "    </tr>\n",
       "  </tbody>\n",
       "</table>\n",
       "</div>"
      ],
      "text/plain": [
       "      cust_id         country  amount_spent\n",
       "1698    14646     Netherlands     280206.02\n",
       "4210    18102  United Kingdom     259657.30\n",
       "3737    17450  United Kingdom     194550.79\n",
       "3017    16446  United Kingdom     168472.50\n",
       "1888    14911            EIRE     143825.06"
      ]
     },
     "execution_count": 21,
     "metadata": {},
     "output_type": "execute_result"
    }
   ],
   "source": [
    "money_spent = df_new.groupby(by=['cust_id','country'], as_index=False)['amount_spent'].sum()\n",
    "print('The TOP 5 customers with highest money spent...')\n",
    "money_spent.sort_values(by='amount_spent', ascending=False).head()"
   ]
  },
  {
   "cell_type": "code",
   "execution_count": 22,
   "metadata": {},
   "outputs": [
    {
     "name": "stdout",
     "output_type": "stream",
     "text": [
      "The TOP 5 customers with least money spent...\n"
     ]
    },
    {
     "data": {
      "text/html": [
       "<div>\n",
       "<style scoped>\n",
       "    .dataframe tbody tr th:only-of-type {\n",
       "        vertical-align: middle;\n",
       "    }\n",
       "\n",
       "    .dataframe tbody tr th {\n",
       "        vertical-align: top;\n",
       "    }\n",
       "\n",
       "    .dataframe thead th {\n",
       "        text-align: right;\n",
       "    }\n",
       "</style>\n",
       "<table border=\"1\" class=\"dataframe\">\n",
       "  <thead>\n",
       "    <tr style=\"text-align: right;\">\n",
       "      <th></th>\n",
       "      <th>cust_id</th>\n",
       "      <th>country</th>\n",
       "      <th>amount_spent</th>\n",
       "    </tr>\n",
       "  </thead>\n",
       "  <tbody>\n",
       "    <tr>\n",
       "      <th>693</th>\n",
       "      <td>13256</td>\n",
       "      <td>United Kingdom</td>\n",
       "      <td>0.00</td>\n",
       "    </tr>\n",
       "    <tr>\n",
       "      <th>3226</th>\n",
       "      <td>16738</td>\n",
       "      <td>United Kingdom</td>\n",
       "      <td>3.75</td>\n",
       "    </tr>\n",
       "    <tr>\n",
       "      <th>1802</th>\n",
       "      <td>14792</td>\n",
       "      <td>United Kingdom</td>\n",
       "      <td>6.20</td>\n",
       "    </tr>\n",
       "    <tr>\n",
       "      <th>3023</th>\n",
       "      <td>16454</td>\n",
       "      <td>United Kingdom</td>\n",
       "      <td>6.90</td>\n",
       "    </tr>\n",
       "    <tr>\n",
       "      <th>4107</th>\n",
       "      <td>17956</td>\n",
       "      <td>United Kingdom</td>\n",
       "      <td>12.75</td>\n",
       "    </tr>\n",
       "  </tbody>\n",
       "</table>\n",
       "</div>"
      ],
      "text/plain": [
       "      cust_id         country  amount_spent\n",
       "693     13256  United Kingdom          0.00\n",
       "3226    16738  United Kingdom          3.75\n",
       "1802    14792  United Kingdom          6.20\n",
       "3023    16454  United Kingdom          6.90\n",
       "4107    17956  United Kingdom         12.75"
      ]
     },
     "execution_count": 22,
     "metadata": {},
     "output_type": "execute_result"
    }
   ],
   "source": [
    "print('The TOP 5 customers with least money spent...')\n",
    "money_spent.sort_values(by='amount_spent', ascending=True).head()"
   ]
  },
  {
   "cell_type": "code",
   "execution_count": 23,
   "metadata": {},
   "outputs": [
    {
     "name": "stdout",
     "output_type": "stream",
     "text": [
      "Average money spent by any customer....\n"
     ]
    },
    {
     "data": {
      "text/plain": [
       "2050.0133204508875"
      ]
     },
     "execution_count": 23,
     "metadata": {},
     "output_type": "execute_result"
    }
   ],
   "source": [
    "print('Average money spent by any customer....')\n",
    "money_spent.amount_spent.mean()"
   ]
  },
  {
   "cell_type": "markdown",
   "metadata": {},
   "source": [
    "Note the variation in money spent by any person on e-commerce"
   ]
  },
  {
   "cell_type": "markdown",
   "metadata": {},
   "source": [
    "## Discover patterns of Number of Orders"
   ]
  },
  {
   "cell_type": "markdown",
   "metadata": {},
   "source": []
  },
  {
   "cell_type": "code",
   "execution_count": 24,
   "metadata": {},
   "outputs": [
    {
     "data": {
      "image/png": "[encoded data removed]",
      "text/plain": [
       "<Figure size 1080x432 with 1 Axes>"
      ]
     },
     "metadata": {
      "needs_background": "light"
     },
     "output_type": "display_data"
    }
   ],
   "source": [
    "ax = df_new.groupby('invoice_num')['year_month'].unique().value_counts().sort_index().plot(kind='bar',color=color[0],figsize=(15,6))\n",
    "ax.set_xlabel('Month',fontsize=15)\n",
    "ax.set_ylabel('Number of Orders',fontsize=15)\n",
    "ax.set_title('Number of orders for different Months (1st Dec 2010 - 9th Dec 2011)',fontsize=15)\n",
    "ax.set_xticklabels(('Dec_10','Jan_11','Feb_11','Mar_11','Apr_11','May_11','Jun_11','July_11','Aug_11','Sep_11','Oct_11','Nov_11','Dec_11'), rotation='horizontal', fontsize=13)\n",
    "plt.show()"
   ]
  },
  {
   "cell_type": "markdown",
   "metadata": {},
   "source": [
    "It illustrates that the sale of gift remain stable through the year with minimum 1000 order per month which is considerable good for any bussiness."
   ]
  },
  {
   "cell_type": "markdown",
   "metadata": {},
   "source": []
  },
  {
   "cell_type": "code",
   "execution_count": 25,
   "metadata": {},
   "outputs": [],
   "source": [
    "#number of order per day\n",
    "#df_new.groupby('invoice_num')['day'].unique().value_counts().sort_index()\n",
    "#ax = df_new.groupby('invoice_num')['day'].unique().value_counts().sort_index().plot(kind='bar',color=color[0],figsize=(15,6))"
   ]
  },
  {
   "cell_type": "markdown",
   "metadata": {},
   "source": []
  },
  {
   "cell_type": "code",
   "execution_count": 26,
   "metadata": {},
   "outputs": [],
   "source": [
    "#No. of orders per hour\n",
    "#ax = df_new.groupby('invoice_num')['hour'].unique().value_counts().iloc[:-1].sort_index().plot(kind='bar',color=color[0],figsize=(15,6))"
   ]
  },
  {
   "cell_type": "markdown",
   "metadata": {},
   "source": [
    "## Discover patterns for each Country"
   ]
  },
  {
   "cell_type": "code",
   "execution_count": 27,
   "metadata": {},
   "outputs": [
    {
     "data": {
      "image/png": "[encoded data removed]",
      "text/plain": [
       "<Figure size 1080x576 with 1 Axes>"
      ]
     },
     "metadata": {
      "needs_background": "light"
     },
     "output_type": "display_data"
    }
   ],
   "source": [
    "group_country_orders = df_new.groupby('country')['invoice_num'].count().sort_values()\n",
    "del group_country_orders['United Kingdom']\n",
    "\n",
    "#plot number of unique customers in each country (with UK)\n",
    "plt.subplots(figsize=(15,8))\n",
    "group_country_orders.plot(kind='barh', fontsize=12, color=color[0])\n",
    "plt.xlabel('Number of Orders', fontsize=12)\n",
    "plt.ylabel('Country', fontsize=12)\n",
    "plt.title('Number of Orders for different Countries', fontsize=12)\n",
    "plt.show()"
   ]
  },
  {
   "cell_type": "code",
   "execution_count": 28,
   "metadata": {},
   "outputs": [],
   "source": [
    "#money spent by each country\n",
    "#group_country_amount_spent = df_new.groupby('country')['amount_spent'].sum().sort_values()\n",
    "#del group_country_orders['United Kingdom']\n"
   ]
  },
  {
   "cell_type": "markdown",
   "metadata": {},
   "source": [
    "Discover patterns for Unit Price"
   ]
  },
  {
   "cell_type": "code",
   "execution_count": 29,
   "metadata": {},
   "outputs": [
    {
     "data": {
      "text/plain": [
       "count    397924.000000\n",
       "mean          3.116174\n",
       "std          22.096788\n",
       "min           0.000000\n",
       "25%           1.250000\n",
       "50%           1.950000\n",
       "75%           3.750000\n",
       "max        8142.750000\n",
       "Name: unit_price, dtype: float64"
      ]
     },
     "execution_count": 29,
     "metadata": {},
     "output_type": "execute_result"
    }
   ],
   "source": [
    "df_new.unit_price.describe()"
   ]
  },
  {
   "cell_type": "code",
   "execution_count": null,
   "metadata": {},
   "outputs": [],
   "source": []
  },
  {
   "cell_type": "markdown",
   "metadata": {},
   "source": [
    "**We see that there are unit price = 0 (FREE items)**\n",
    "\n",
    "There are some free items given to customers from time to time"
   ]
  },
  {
   "cell_type": "code",
   "execution_count": 30,
   "metadata": {},
   "outputs": [
    {
     "data": {
      "image/png": "[encoded data removed]",
      "text/plain": [
       "<Figure size 1152x864 with 1 Axes>"
      ]
     },
     "metadata": {
      "needs_background": "light"
     },
     "output_type": "display_data"
    }
   ],
   "source": [
    "# check the distribution of unit price\n",
    "plt.subplots(figsize=(16,12))\n",
    "\n",
    "sns.boxplot(df_new.unit_price)\n",
    "plt.show()"
   ]
  },
  {
   "cell_type": "code",
   "execution_count": 31,
   "metadata": {},
   "outputs": [
    {
     "data": {
      "text/html": [
       "<div>\n",
       "<style scoped>\n",
       "    .dataframe tbody tr th:only-of-type {\n",
       "        vertical-align: middle;\n",
       "    }\n",
       "\n",
       "    .dataframe tbody tr th {\n",
       "        vertical-align: top;\n",
       "    }\n",
       "\n",
       "    .dataframe thead th {\n",
       "        text-align: right;\n",
       "    }\n",
       "</style>\n",
       "<table border=\"1\" class=\"dataframe\">\n",
       "  <thead>\n",
       "    <tr style=\"text-align: right;\">\n",
       "      <th></th>\n",
       "      <th>invoice_num</th>\n",
       "      <th>invoice_date</th>\n",
       "      <th>year_month</th>\n",
       "      <th>month</th>\n",
       "      <th>day</th>\n",
       "      <th>hour</th>\n",
       "      <th>stock_code</th>\n",
       "      <th>description</th>\n",
       "      <th>quantity</th>\n",
       "      <th>unit_price</th>\n",
       "      <th>amount_spent</th>\n",
       "      <th>cust_id</th>\n",
       "      <th>country</th>\n",
       "    </tr>\n",
       "  </thead>\n",
       "  <tbody>\n",
       "    <tr>\n",
       "      <th>9302</th>\n",
       "      <td>537197</td>\n",
       "      <td>2010-12-05 14:02:00</td>\n",
       "      <td>201012</td>\n",
       "      <td>12</td>\n",
       "      <td>7</td>\n",
       "      <td>14</td>\n",
       "      <td>22841</td>\n",
       "      <td>round cake tin vintage green</td>\n",
       "      <td>1</td>\n",
       "      <td>0.0</td>\n",
       "      <td>0.0</td>\n",
       "      <td>12647</td>\n",
       "      <td>Germany</td>\n",
       "    </tr>\n",
       "    <tr>\n",
       "      <th>33576</th>\n",
       "      <td>539263</td>\n",
       "      <td>2010-12-16 14:36:00</td>\n",
       "      <td>201012</td>\n",
       "      <td>12</td>\n",
       "      <td>4</td>\n",
       "      <td>14</td>\n",
       "      <td>22580</td>\n",
       "      <td>advent calendar gingham sack</td>\n",
       "      <td>4</td>\n",
       "      <td>0.0</td>\n",
       "      <td>0.0</td>\n",
       "      <td>16560</td>\n",
       "      <td>United Kingdom</td>\n",
       "    </tr>\n",
       "  </tbody>\n",
       "</table>\n",
       "</div>"
      ],
      "text/plain": [
       "      invoice_num        invoice_date  year_month  month  day  hour  \\\n",
       "9302       537197 2010-12-05 14:02:00      201012     12    7    14   \n",
       "33576      539263 2010-12-16 14:36:00      201012     12    4    14   \n",
       "\n",
       "      stock_code                   description  quantity  unit_price  \\\n",
       "9302       22841  round cake tin vintage green         1         0.0   \n",
       "33576      22580  advent calendar gingham sack         4         0.0   \n",
       "\n",
       "       amount_spent  cust_id         country  \n",
       "9302            0.0    12647         Germany  \n",
       "33576           0.0    16560  United Kingdom  "
      ]
     },
     "execution_count": 31,
     "metadata": {},
     "output_type": "execute_result"
    }
   ],
   "source": [
    "df_free = df_new[df_new.unit_price == 0]\n",
    "df_free.head(2)"
   ]
  },
  {
   "cell_type": "markdown",
   "metadata": {},
   "source": [
    "For unit_price\n",
    "\n",
    "mean          3.116174\n",
    "\n",
    "std          22.096788\n",
    "\n",
    "min           0.000000\n",
    "\n",
    "25%           1.250000\n",
    "\n",
    "50%           1.950000\n",
    "\n",
    "75%           3.750000\n",
    "\n",
    "max        8142.750000\n",
    "\n",
    "Let's check whether customer go for high-valued product or low-valued product taking 1000 as separation point cause 75 percentile of value is quite low"
   ]
  },
  {
   "cell_type": "code",
   "execution_count": 32,
   "metadata": {},
   "outputs": [],
   "source": [
    "df_less = df_new[df_new.unit_price <1000]\n",
    "df_more = df_new[df_new.unit_price >=1000]\n",
    "df_3quartile=df_new[df_new.unit_price >=3.75]"
   ]
  },
  {
   "cell_type": "code",
   "execution_count": 33,
   "metadata": {},
   "outputs": [
    {
     "name": "stdout",
     "output_type": "stream",
     "text": [
      "Number of free items given\n"
     ]
    },
    {
     "data": {
      "image/png": "[encoded data removed]",
      "text/plain": [
       "<Figure size 864x432 with 1 Axes>"
      ]
     },
     "metadata": {
      "needs_background": "light"
     },
     "output_type": "display_data"
    }
   ],
   "source": [
    "print('Number of free items given')\n",
    "ax = df_free.year_month.value_counts().sort_index().plot(kind='bar',figsize=(12,6), color=color[0])\n",
    "ax.set_xlabel('Month',fontsize=15)\n",
    "ax.set_ylabel('Frequency',fontsize=15)\n",
    "ax.set_title('Frequency for different Months (Dec 2010 - Dec 2011)',fontsize=15)\n",
    "ax.set_xticklabels(('Dec_10','Jan_11','Feb_11','Mar_11','Apr_11','May_11','July_11','Aug_11','Sep_11','Oct_11','Nov_11'), rotation='horizontal', fontsize=13)\n",
    "plt.show()"
   ]
  },
  {
   "cell_type": "markdown",
   "metadata": {},
   "source": [
    "On average, the company gave out 2-4 times FREE items to customers each month (Except in June 2011). The exact reason or marketing strategies is not known.\n"
   ]
  },
  {
   "cell_type": "markdown",
   "metadata": {},
   "source": [
    "## Check the number of times an item is reorder"
   ]
  },
  {
   "cell_type": "code",
   "execution_count": 34,
   "metadata": {},
   "outputs": [
    {
     "data": {
      "text/html": [
       "<div>\n",
       "<style scoped>\n",
       "    .dataframe tbody tr th:only-of-type {\n",
       "        vertical-align: middle;\n",
       "    }\n",
       "\n",
       "    .dataframe tbody tr th {\n",
       "        vertical-align: top;\n",
       "    }\n",
       "\n",
       "    .dataframe thead th {\n",
       "        text-align: right;\n",
       "    }\n",
       "</style>\n",
       "<table border=\"1\" class=\"dataframe\">\n",
       "  <thead>\n",
       "    <tr style=\"text-align: right;\">\n",
       "      <th></th>\n",
       "      <th>invoice_num</th>\n",
       "      <th>invoice_date</th>\n",
       "      <th>year_month</th>\n",
       "      <th>month</th>\n",
       "      <th>day</th>\n",
       "      <th>hour</th>\n",
       "      <th>stock_code</th>\n",
       "      <th>description</th>\n",
       "      <th>quantity</th>\n",
       "      <th>unit_price</th>\n",
       "      <th>amount_spent</th>\n",
       "      <th>cust_id</th>\n",
       "      <th>country</th>\n",
       "      <th>reorder</th>\n",
       "    </tr>\n",
       "  </thead>\n",
       "  <tbody>\n",
       "    <tr>\n",
       "      <th>198742</th>\n",
       "      <td>554065</td>\n",
       "      <td>2011-05-22 10:39:00</td>\n",
       "      <td>201105</td>\n",
       "      <td>5</td>\n",
       "      <td>7</td>\n",
       "      <td>10</td>\n",
       "      <td>85039B</td>\n",
       "      <td>s/4 ivory mini rose candle in bowl</td>\n",
       "      <td>12</td>\n",
       "      <td>1.65</td>\n",
       "      <td>19.80</td>\n",
       "      <td>18287</td>\n",
       "      <td>United Kingdom</td>\n",
       "      <td>1</td>\n",
       "    </tr>\n",
       "    <tr>\n",
       "      <th>392744</th>\n",
       "      <td>570715</td>\n",
       "      <td>2011-10-12 10:23:00</td>\n",
       "      <td>201110</td>\n",
       "      <td>10</td>\n",
       "      <td>3</td>\n",
       "      <td>10</td>\n",
       "      <td>85039B</td>\n",
       "      <td>s/4 ivory mini rose candle in bowl</td>\n",
       "      <td>48</td>\n",
       "      <td>1.45</td>\n",
       "      <td>69.60</td>\n",
       "      <td>18287</td>\n",
       "      <td>United Kingdom</td>\n",
       "      <td>1</td>\n",
       "    </tr>\n",
       "    <tr>\n",
       "      <th>198740</th>\n",
       "      <td>554065</td>\n",
       "      <td>2011-05-22 10:39:00</td>\n",
       "      <td>201105</td>\n",
       "      <td>5</td>\n",
       "      <td>7</td>\n",
       "      <td>10</td>\n",
       "      <td>85040A</td>\n",
       "      <td>s/4 pink flower candles in bowl</td>\n",
       "      <td>36</td>\n",
       "      <td>1.65</td>\n",
       "      <td>59.40</td>\n",
       "      <td>18287</td>\n",
       "      <td>United Kingdom</td>\n",
       "      <td>0</td>\n",
       "    </tr>\n",
       "    <tr>\n",
       "      <th>198743</th>\n",
       "      <td>554065</td>\n",
       "      <td>2011-05-22 10:39:00</td>\n",
       "      <td>201105</td>\n",
       "      <td>5</td>\n",
       "      <td>7</td>\n",
       "      <td>10</td>\n",
       "      <td>85040A</td>\n",
       "      <td>s/4 pink flower candles in bowl</td>\n",
       "      <td>12</td>\n",
       "      <td>1.65</td>\n",
       "      <td>19.80</td>\n",
       "      <td>18287</td>\n",
       "      <td>United Kingdom</td>\n",
       "      <td>1</td>\n",
       "    </tr>\n",
       "    <tr>\n",
       "      <th>392743</th>\n",
       "      <td>570715</td>\n",
       "      <td>2011-10-12 10:23:00</td>\n",
       "      <td>201110</td>\n",
       "      <td>10</td>\n",
       "      <td>3</td>\n",
       "      <td>10</td>\n",
       "      <td>85173</td>\n",
       "      <td>set/6 frog prince t-light candles</td>\n",
       "      <td>48</td>\n",
       "      <td>1.69</td>\n",
       "      <td>81.12</td>\n",
       "      <td>18287</td>\n",
       "      <td>United Kingdom</td>\n",
       "      <td>0</td>\n",
       "    </tr>\n",
       "  </tbody>\n",
       "</table>\n",
       "</div>"
      ],
      "text/plain": [
       "       invoice_num        invoice_date  year_month  month  day  hour  \\\n",
       "198742      554065 2011-05-22 10:39:00      201105      5    7    10   \n",
       "392744      570715 2011-10-12 10:23:00      201110     10    3    10   \n",
       "198740      554065 2011-05-22 10:39:00      201105      5    7    10   \n",
       "198743      554065 2011-05-22 10:39:00      201105      5    7    10   \n",
       "392743      570715 2011-10-12 10:23:00      201110     10    3    10   \n",
       "\n",
       "       stock_code                         description  quantity  unit_price  \\\n",
       "198742     85039B  s/4 ivory mini rose candle in bowl        12        1.65   \n",
       "392744     85039B  s/4 ivory mini rose candle in bowl        48        1.45   \n",
       "198740     85040A     s/4 pink flower candles in bowl        36        1.65   \n",
       "198743     85040A     s/4 pink flower candles in bowl        12        1.65   \n",
       "392743      85173   set/6 frog prince t-light candles        48        1.69   \n",
       "\n",
       "        amount_spent  cust_id         country  reorder  \n",
       "198742         19.80    18287  United Kingdom        1  \n",
       "392744         69.60    18287  United Kingdom        1  \n",
       "198740         59.40    18287  United Kingdom        0  \n",
       "198743         19.80    18287  United Kingdom        1  \n",
       "392743         81.12    18287  United Kingdom        0  "
      ]
     },
     "execution_count": 34,
     "metadata": {},
     "output_type": "execute_result"
    }
   ],
   "source": [
    "df_sort = df_new.sort_values(['cust_id', 'stock_code', 'invoice_date'])\n",
    "df_sort_shift1 = df_sort.shift(1)\n",
    "df_sort_reorder = df_sort.copy()\n",
    "df_sort_reorder['reorder'] = np.where(df_sort['stock_code'] == df_sort_shift1['stock_code'], 1,0)\n",
    "df_sort_reorder.tail(5)"
   ]
  },
  {
   "cell_type": "code",
   "execution_count": 35,
   "metadata": {},
   "outputs": [
    {
     "data": {
      "text/html": [
       "<div>\n",
       "<style scoped>\n",
       "    .dataframe tbody tr th:only-of-type {\n",
       "        vertical-align: middle;\n",
       "    }\n",
       "\n",
       "    .dataframe tbody tr th {\n",
       "        vertical-align: top;\n",
       "    }\n",
       "\n",
       "    .dataframe thead th {\n",
       "        text-align: right;\n",
       "    }\n",
       "</style>\n",
       "<table border=\"1\" class=\"dataframe\">\n",
       "  <thead>\n",
       "    <tr style=\"text-align: right;\">\n",
       "      <th></th>\n",
       "      <th>reorder</th>\n",
       "    </tr>\n",
       "    <tr>\n",
       "      <th>description</th>\n",
       "      <th></th>\n",
       "    </tr>\n",
       "  </thead>\n",
       "  <tbody>\n",
       "    <tr>\n",
       "      <th>white hanging heart t-light holder</th>\n",
       "      <td>1172</td>\n",
       "    </tr>\n",
       "    <tr>\n",
       "      <th>jumbo bag red retrospot</th>\n",
       "      <td>983</td>\n",
       "    </tr>\n",
       "    <tr>\n",
       "      <th>regency cakestand 3 tier</th>\n",
       "      <td>843</td>\n",
       "    </tr>\n",
       "    <tr>\n",
       "      <th>lunch bag red retrospot</th>\n",
       "      <td>785</td>\n",
       "    </tr>\n",
       "    <tr>\n",
       "      <th>postage</th>\n",
       "      <td>768</td>\n",
       "    </tr>\n",
       "    <tr>\n",
       "      <th>assorted colour bird ornament</th>\n",
       "      <td>730</td>\n",
       "    </tr>\n",
       "    <tr>\n",
       "      <th>party bunting</th>\n",
       "      <td>689</td>\n",
       "    </tr>\n",
       "    <tr>\n",
       "      <th>lunch bag  black skull.</th>\n",
       "      <td>647</td>\n",
       "    </tr>\n",
       "    <tr>\n",
       "      <th>lunch bag suki design</th>\n",
       "      <td>621</td>\n",
       "    </tr>\n",
       "    <tr>\n",
       "      <th>set of 3 cake tins pantry design</th>\n",
       "      <td>519</td>\n",
       "    </tr>\n",
       "  </tbody>\n",
       "</table>\n",
       "</div>"
      ],
      "text/plain": [
       "                                    reorder\n",
       "description                                \n",
       "white hanging heart t-light holder     1172\n",
       "jumbo bag red retrospot                 983\n",
       "regency cakestand 3 tier                843\n",
       "lunch bag red retrospot                 785\n",
       "postage                                 768\n",
       "assorted colour bird ornament           730\n",
       "party bunting                           689\n",
       "lunch bag  black skull.                 647\n",
       "lunch bag suki design                   621\n",
       "set of 3 cake tins pantry design        519"
      ]
     },
     "execution_count": 35,
     "metadata": {},
     "output_type": "execute_result"
    }
   ],
   "source": [
    "#Top 10 Reorder item\n",
    "df_all=pd.DataFrame((df_sort_reorder.groupby(['description'])['reorder'].sum())).sort_values('reorder', ascending = False)\n",
    "df_all.head(10)"
   ]
  },
  {
   "cell_type": "markdown",
   "metadata": {},
   "source": [
    "Check for item in reorder list for free item and count it"
   ]
  },
  {
   "cell_type": "code",
   "execution_count": 36,
   "metadata": {},
   "outputs": [
    {
     "data": {
      "text/plain": [
       "29"
      ]
     },
     "execution_count": 36,
     "metadata": {},
     "output_type": "execute_result"
    }
   ],
   "source": [
    "df_free_reorder=df_sort_reorder[df_sort_reorder.unit_price==0]\n",
    "df_free_reorder=df_free_reorder[df_sort_reorder.reorder>0]\n",
    "df_free_reorder.invoice_num.count()"
   ]
  },
  {
   "cell_type": "code",
   "execution_count": 37,
   "metadata": {},
   "outputs": [
    {
     "data": {
      "text/plain": [
       "40"
      ]
     },
     "execution_count": 37,
     "metadata": {},
     "output_type": "execute_result"
    }
   ],
   "source": [
    "df_free.invoice_num.count()"
   ]
  },
  {
   "cell_type": "markdown",
   "metadata": {},
   "source": [
    "It shows that 29 out 40 items given as free is reorder.\n",
    "It is a positive indication for advertisement and sales."
   ]
  },
  {
   "cell_type": "markdown",
   "metadata": {},
   "source": [
    "Check for reordering of high or low valued items"
   ]
  },
  {
   "cell_type": "code",
   "execution_count": 38,
   "metadata": {
    "scrolled": true
   },
   "outputs": [],
   "source": [
    "#First Item Order\n",
    "df_sort = df_less.sort_values(['cust_id', 'stock_code', 'invoice_date'])\n",
    "df_sort_shift1 = df_sort.shift(1)\n",
    "df_sort_reorder = df_sort.copy()\n",
    "df_sort_reorder['reorder'] = np.where(df_sort['stock_code'] == df_sort_shift1['stock_code'], 1,0)\n",
    "#df_sort_reorder.head(5)"
   ]
  },
  {
   "cell_type": "code",
   "execution_count": 41,
   "metadata": {},
   "outputs": [
    {
     "data": {
      "text/html": [
       "<div>\n",
       "<style scoped>\n",
       "    .dataframe tbody tr th:only-of-type {\n",
       "        vertical-align: middle;\n",
       "    }\n",
       "\n",
       "    .dataframe tbody tr th {\n",
       "        vertical-align: top;\n",
       "    }\n",
       "\n",
       "    .dataframe thead th {\n",
       "        text-align: right;\n",
       "    }\n",
       "</style>\n",
       "<table border=\"1\" class=\"dataframe\">\n",
       "  <thead>\n",
       "    <tr style=\"text-align: right;\">\n",
       "      <th></th>\n",
       "      <th>reorder</th>\n",
       "    </tr>\n",
       "    <tr>\n",
       "      <th>description</th>\n",
       "      <th></th>\n",
       "    </tr>\n",
       "  </thead>\n",
       "  <tbody>\n",
       "    <tr>\n",
       "      <th>white hanging heart t-light holder</th>\n",
       "      <td>1172</td>\n",
       "    </tr>\n",
       "    <tr>\n",
       "      <th>jumbo bag red retrospot</th>\n",
       "      <td>983</td>\n",
       "    </tr>\n",
       "    <tr>\n",
       "      <th>regency cakestand 3 tier</th>\n",
       "      <td>843</td>\n",
       "    </tr>\n",
       "    <tr>\n",
       "      <th>lunch bag red retrospot</th>\n",
       "      <td>785</td>\n",
       "    </tr>\n",
       "    <tr>\n",
       "      <th>postage</th>\n",
       "      <td>768</td>\n",
       "    </tr>\n",
       "    <tr>\n",
       "      <th>assorted colour bird ornament</th>\n",
       "      <td>730</td>\n",
       "    </tr>\n",
       "    <tr>\n",
       "      <th>party bunting</th>\n",
       "      <td>689</td>\n",
       "    </tr>\n",
       "    <tr>\n",
       "      <th>lunch bag  black skull.</th>\n",
       "      <td>647</td>\n",
       "    </tr>\n",
       "    <tr>\n",
       "      <th>lunch bag suki design</th>\n",
       "      <td>621</td>\n",
       "    </tr>\n",
       "    <tr>\n",
       "      <th>set of 3 cake tins pantry design</th>\n",
       "      <td>519</td>\n",
       "    </tr>\n",
       "  </tbody>\n",
       "</table>\n",
       "</div>"
      ],
      "text/plain": [
       "                                    reorder\n",
       "description                                \n",
       "white hanging heart t-light holder     1172\n",
       "jumbo bag red retrospot                 983\n",
       "regency cakestand 3 tier                843\n",
       "lunch bag red retrospot                 785\n",
       "postage                                 768\n",
       "assorted colour bird ornament           730\n",
       "party bunting                           689\n",
       "lunch bag  black skull.                 647\n",
       "lunch bag suki design                   621\n",
       "set of 3 cake tins pantry design        519"
      ]
     },
     "execution_count": 41,
     "metadata": {},
     "output_type": "execute_result"
    }
   ],
   "source": [
    "#Top low valued reorder item\n",
    "pd.DataFrame((df_sort_reorder.groupby(['description'])['reorder'].sum())).sort_values('reorder', ascending = False).head(10)"
   ]
  },
  {
   "cell_type": "code",
   "execution_count": 42,
   "metadata": {},
   "outputs": [],
   "source": [
    "\n",
    "df_sort = df_more.sort_values(['cust_id', 'stock_code', 'invoice_date'])\n",
    "df_sort_shift1 = df_sort.shift(1)\n",
    "df_sort_reorder = df_sort.copy()\n",
    "df_sort_reorder['reorder'] = np.where(df_sort['stock_code'] == df_sort_shift1['stock_code'], 1,0)\n",
    "#df_sort_reorder.head(5)\n"
   ]
  },
  {
   "cell_type": "code",
   "execution_count": 43,
   "metadata": {},
   "outputs": [
    {
     "data": {
      "text/html": [
       "<div>\n",
       "<style scoped>\n",
       "    .dataframe tbody tr th:only-of-type {\n",
       "        vertical-align: middle;\n",
       "    }\n",
       "\n",
       "    .dataframe tbody tr th {\n",
       "        vertical-align: top;\n",
       "    }\n",
       "\n",
       "    .dataframe thead th {\n",
       "        text-align: right;\n",
       "    }\n",
       "</style>\n",
       "<table border=\"1\" class=\"dataframe\">\n",
       "  <thead>\n",
       "    <tr style=\"text-align: right;\">\n",
       "      <th></th>\n",
       "      <th>reorder</th>\n",
       "    </tr>\n",
       "    <tr>\n",
       "      <th>description</th>\n",
       "      <th></th>\n",
       "    </tr>\n",
       "  </thead>\n",
       "  <tbody>\n",
       "    <tr>\n",
       "      <th>manual</th>\n",
       "      <td>13</td>\n",
       "    </tr>\n",
       "    <tr>\n",
       "      <th>dotcom postage</th>\n",
       "      <td>3</td>\n",
       "    </tr>\n",
       "    <tr>\n",
       "      <th>postage</th>\n",
       "      <td>0</td>\n",
       "    </tr>\n",
       "  </tbody>\n",
       "</table>\n",
       "</div>"
      ],
      "text/plain": [
       "                reorder\n",
       "description            \n",
       "manual               13\n",
       "dotcom postage        3\n",
       "postage               0"
      ]
     },
     "execution_count": 43,
     "metadata": {},
     "output_type": "execute_result"
    }
   ],
   "source": [
    "#Top high valued item\n",
    "pd.DataFrame((df_sort_reorder.groupby(['description'])['reorder'].sum())).sort_values('reorder', ascending = False).head(10)"
   ]
  },
  {
   "cell_type": "code",
   "execution_count": null,
   "metadata": {},
   "outputs": [],
   "source": [
    "#order_canceled = df_new['invoice_num'].apply(lambda x:int('C' in x))\n",
    "#n1 = order_canceled.sum()\n",
    "#n2 = df_new.shape[0]\n",
    "#print('Number of orders canceled: {}/{} ({:.2f}%) '.format(n1, n2, n1/n2*100))"
   ]
  },
  {
   "cell_type": "markdown",
   "metadata": {},
   "source": [
    "## Topic Modelling"
   ]
  },
  {
   "cell_type": "code",
   "execution_count": 44,
   "metadata": {},
   "outputs": [],
   "source": [
    "\n",
    "from nltk.tokenize import RegexpTokenizer\n",
    "from stop_words import get_stop_words\n",
    "from nltk.stem.wordnet import WordNetLemmatizer\n",
    "from gensim import corpora, models\n",
    "pattern = r'\\b[^\\d\\W]+\\b'\n",
    "tokenizer = RegexpTokenizer(pattern)\n",
    "en_stop = get_stop_words('en')\n",
    "lemmatizer = WordNetLemmatizer()"
   ]
  },
  {
   "cell_type": "code",
   "execution_count": 45,
   "metadata": {},
   "outputs": [],
   "source": [
    "en_stop = get_stop_words('en')\n",
    "en_stop.extend(['set','pack','small','white','black','heart','red','pink','blue','love','hot'])"
   ]
  },
  {
   "cell_type": "code",
   "execution_count": 47,
   "metadata": {},
   "outputs": [],
   "source": [
    "# list for tokenized documents in loop\n",
    "import re\n",
    "import string\n",
    "\n",
    "texts = []\n",
    "\n",
    "    # loop through document list\n",
    "for i in df_new['description'].iteritems():\n",
    "    # clean and tokenize document string\n",
    "        raw = str(i[1]).lower()\n",
    "        raw = re.sub(r'\\[.*?\\]', '', raw)\n",
    "        raw = re.sub(r'[%s]' % re.escape(string.punctuation), '',raw)\n",
    "        raw= re.sub(r'\\w*\\d\\w*', '', raw)\n",
    "        raw= re.sub(r'\\d+',\"\", raw)\n",
    "        tokens = tokenizer.tokenize(raw)\n",
    "\n",
    "    # remove stop words from tokens\n",
    "        stopped_tokens_new = [raw for raw in tokens if not raw in en_stop]\n",
    "        lemma_tokens = [lemmatizer.lemmatize(tokens) for tokens in stopped_tokens_new]\n",
    "        new_lemma_tokens = [raw for raw in lemma_tokens if not len(raw) == 1]\n",
    "    \n",
    "    # add tokens to list\n",
    "        texts.append(new_lemma_tokens)\n",
    "        \n",
    "        "
   ]
  },
  {
   "cell_type": "code",
   "execution_count": 48,
   "metadata": {},
   "outputs": [],
   "source": [
    "# turn our tokenized documents into a id <-> term dictionary\n",
    "dictionary = corpora.Dictionary(texts)\n",
    "# convert tokenized documents into a document-term matrix\n",
    "corpus = [dictionary.doc2bow(text) for text in texts]"
   ]
  },
  {
   "cell_type": "code",
   "execution_count": 49,
   "metadata": {},
   "outputs": [
    {
     "name": "stdout",
     "output_type": "stream",
     "text": [
      "[([(0.08965688, 'hanging'), (0.08913062, 'holder')], -0.856110557491156),\n",
      " ([(0.18356767, 'bag'), (0.08532255, 'jumbo')], -1.018911483789616),\n",
      " ([(0.15610074, 'christmas'), (0.102276556, 'vintage')], -1.3195285215906745),\n",
      " ([(0.07932767, 'paper'), (0.075935416, 'kit')], -1.3601180259235792),\n",
      " ([(0.051392756, 'ivory'), (0.05011604, 'wall')], -2.224431851543999),\n",
      " ([(0.10112737, 'cake'), (0.09367221, 'retrospot')], -2.267440679983328),\n",
      " ([(0.14961867, 'design'), (0.06361882, 'spaceboy')], -2.287946449092151),\n",
      " ([(0.06792361, 'tea'), (0.05522468, 'light')], -3.5978323247961743),\n",
      " ([(0.06221112, 'frame'), (0.06057826, 'mug')], -23.344404263972415),\n",
      " ([(0.10760158, 'wooden'), (0.1010778, 'tin')], -23.950739409714224)]\n"
     ]
    }
   ],
   "source": [
    "import gensim\n",
    "ldamodel = gensim.models.ldamodel.LdaModel(corpus, num_topics=10, id2word = dictionary, passes=20)\n",
    "import pprint\n",
    "pprint.pprint(ldamodel.top_topics(corpus,topn=2))"
   ]
  },
  {
   "cell_type": "code",
   "execution_count": 50,
   "metadata": {},
   "outputs": [
    {
     "data": {
      "text/html": [
       "\n",
       "<link rel=\"stylesheet\" type=\"text/css\" href=\"https://cdn.rawgit.com/bmabey/pyLDAvis/files/ldavis.v1.0.0.css\">\n",
       "\n",
       "\n",
       "<div id=\"ldavis_el152722279343541192976821766\"></div>\n",
       "<script type=\"text/javascript\">\n",
       "\n",
       "var ldavis_el152722279343541192976821766_data = {\"mdsDat\": {\"x\": [-0.2638468265164294, 0.09357451715638926, -0.34502783141149074, 0.13028472919466125, -0.08091979466517542, 0.046172432386544254, 0.13658643793350175, 0.08663600890905648, 0.102677982366534, 0.09386234464640834], \"y\": [0.014856997446047942, 0.1933335675036032, -0.10085163678278856, -0.14754765821076585, 0.08393558584253125, 0.27535132342322793, -0.13364876026068903, 0.052054799883798124, 0.04191247045538427, -0.27939668930034867], \"topics\": [1, 2, 3, 4, 5, 6, 7, 8, 9, 10], \"cluster\": [1, 1, 1, 1, 1, 1, 1, 1, 1, 1], \"Freq\": [13.762842178344727, 12.000051498413086, 11.926070213317871, 10.569513320922852, 9.814434051513672, 9.404916763305664, 8.979270935058594, 8.185227394104004, 8.0730562210083, 7.28461217880249]}, \"tinfo\": {\"Term\": [\"bag\", \"christmas\", \"design\", \"vintage\", \"cake\", \"wooden\", \"jumbo\", \"tin\", \"retrospot\", \"hanging\", \"holder\", \"metal\", \"tlight\", \"star\", \"bottle\", \"paper\", \"kit\", \"sign\", \"spaceboy\", \"doily\", \"card\", \"water\", \"mini\", \"lunch\", \"case\", \"tea\", \"decoration\", \"hand\", \"home\", \"box\", \"bag\", \"jumbo\", \"metal\", \"sign\", \"paisley\", \"keep\", \"party\", \"shopper\", \"suki\", \"french\", \"door\", \"cat\", \"glitter\", \"floral\", \"animal\", \"tonic\", \"one\", \"wish\", \"person\", \"stationery\", \"dish\", \"airline\", \"shoulder\", \"gin\", \"please\", \"bathroom\", \"car\", \"pocket\", \"diet\", \"scented\", \"lunch\", \"storage\", \"charlotte\", \"woodland\", \"vintage\", \"top\", \"polkadot\", \"retrospot\", \"skull\", \"candle\", \"strawberry\", \"cake\", \"mini\", \"case\", \"home\", \"fairy\", \"tissue\", \"regency\", \"sweet\", \"sewing\", \"travel\", \"sweetheart\", \"cutlery\", \"stand\", \"painted\", \"plate\", \"tier\", \"enamel\", \"spotty\", \"saucer\", \"teacup\", \"folding\", \"poppy\", \"square\", \"cakestand\", \"charlielola\", \"backpack\", \"mushroom\", \"jug\", \"wire\", \"deluxe\", \"retrospot\", \"piece\", \"polkadot\", \"box\", \"green\", \"london\", \"cream\", \"rose\", \"christmas\", \"bottle\", \"card\", \"water\", \"decoration\", \"ribbon\", \"bell\", \"wrap\", \"calm\", \"tree\", \"gift\", \"park\", \"reel\", \"magnet\", \"angel\", \"wallet\", \"jingle\", \"charm\", \"pan\", \"stocking\", \"gold\", \"rustic\", \"grey\", \"frying\", \"folkart\", \"sleigh\", \"feather\", \"sympathy\", \"tail\", \"school\", \"vintage\", \"game\", \"scandinavian\", \"heart\", \"birthday\", \"zinc\", \"tag\", \"design\", \"spaceboy\", \"hand\", \"warmer\", \"wicker\", \"dolly\", \"girl\", \"childrens\", \"apple\", \"roll\", \"spot\", \"apron\", \"cookie\", \"cutter\", \"butterfly\", \"knob\", \"wreath\", \"mirror\", \"milk\", \"parasol\", \"edwardian\", \"stripe\", \"scotty\", \"morris\", \"chest\", \"boxed\", \"calendar\", \"shed\", \"acrylic\", \"jewellery\", \"large\", \"ceramic\", \"drawer\", \"box\", \"lunch\", \"kid\", \"hanging\", \"holder\", \"tlight\", \"star\", \"silver\", \"antique\", \"pantry\", \"leaf\", \"flower\", \"hook\", \"lantern\", \"botanical\", \"yellow\", \"recipe\", \"drawing\", \"sketchbook\", \"popcorn\", \"rack\", \"postage\", \"rotating\", \"friend\", \"hldr\", \"coat\", \"lip\", \"gloss\", \"daisy\", \"single\", \"gumball\", \"pretty\", \"shelf\", \"glass\", \"candle\", \"zinc\", \"dinner\", \"cream\", \"colour\", \"ivory\", \"wall\", \"clock\", \"traditional\", \"bowl\", \"chocolate\", \"notebook\", \"baking\", \"jar\", \"alarm\", \"bakelike\", \"napkin\", \"key\", \"jam\", \"english\", \"medium\", \"jigsaw\", \"santa\", \"making\", \"clip\", \"peg\", \"mould\", \"pc\", \"toilet\", \"sugar\", \"purse\", \"lid\", \"loaf\", \"fob\", \"cross\", \"babushka\", \"rose\", \"doormat\", \"diner\", \"retrospot\", \"large\", \"glass\", \"green\", \"wooden\", \"tin\", \"craft\", \"cup\", \"bunting\", \"plaster\", \"alphabet\", \"trinket\", \"egg\", \"kitchen\", \"pot\", \"letter\", \"stamp\", \"felt\", \"retro\", \"garland\", \"circus\", \"parade\", \"decorative\", \"horse\", \"scale\", \"knick\", \"knack\", \"lace\", \"rocking\", \"happy\", \"chalk\", \"tall\", \"herb\", \"style\", \"stick\", \"box\", \"cream\", \"paper\", \"kit\", \"doily\", \"pencil\", \"chain\", \"tube\", \"gingham\", \"tray\", \"slate\", \"cracker\", \"book\", \"table\", \"garden\", \"ring\", \"magic\", \"chalkboard\", \"natural\", \"list\", \"giant\", \"match\", \"harmonica\", \"rex\", \"cashcarry\", \"make\", \"shopping\", \"tv\", \"swirly\", \"spoon\", \"breakfast\", \"reindeer\", \"skull\", \"box\", \"light\", \"doorstop\", \"dinner\", \"tea\", \"assorted\", \"bird\", \"union\", \"art\", \"night\", \"jack\", \"owl\", \"bicycle\", \"classic\", \"cover\", \"round\", \"pad\", \"kneeling\", \"snack\", \"gardener\", \"cushion\", \"tlights\", \"balloon\", \"led\", \"treasure\", \"towel\", \"purple\", \"board\", \"toadstool\", \"ruler\", \"pear\", \"flag\", \"ornament\", \"house\", \"light\", \"colour\", \"woodland\", \"frame\", \"mug\", \"feltcraft\", \"wood\", \"dog\", \"rabbit\", \"playing\", \"photo\", \"doll\", \"money\", \"pen\", \"picture\", \"cabinet\", \"finish\", \"coffee\", \"biscuit\", \"bank\", \"scottie\", \"toy\", \"princess\", \"colouring\", \"lola\", \"repair\", \"parisienne\", \"cosy\", \"carry\", \"landmark\", \"portrait\", \"mouse\", \"cornice\", \"puncture\", \"drawer\", \"ceramic\"], \"Freq\": [35043.0, 25823.0, 21935.0, 27135.0, 16833.0, 13402.0, 16288.0, 12589.0, 24142.0, 12206.0, 12134.0, 13769.0, 11167.0, 10060.0, 10900.0, 9007.0, 8622.0, 10742.0, 9327.0, 8296.0, 9764.0, 9653.0, 9324.0, 12386.0, 9129.0, 7606.0, 8989.0, 8338.0, 8807.0, 20045.0, 35042.98046875, 16288.0341796875, 13769.0263671875, 10742.03125, 8210.84375, 5739.94873046875, 4067.124267578125, 2510.612548828125, 2490.831787109375, 2415.47509765625, 1819.1622314453125, 1753.4573974609375, 1640.5399169921875, 1509.5560302734375, 1223.6861572265625, 1134.3118896484375, 1101.649658203125, 1068.47998046875, 1016.179443359375, 991.4334106445312, 922.5474243164062, 903.2730712890625, 869.177490234375, 863.3485107421875, 831.910400390625, 829.677490234375, 775.9613647460938, 717.0188598632812, 691.0306396484375, 648.567138671875, 10856.255859375, 2730.979736328125, 3003.067626953125, 3424.148681640625, 10215.7236328125, 1603.321044921875, 2471.5185546875, 4190.98291015625, 1766.056884765625, 1798.2725830078125, 1049.88916015625, 16832.49609375, 9323.802734375, 9129.0263671875, 8806.9208984375, 5540.97265625, 5048.09619140625, 4623.044921875, 4171.9306640625, 3727.2451171875, 3288.281005859375, 2833.991943359375, 2774.156494140625, 2711.77294921875, 2600.21630859375, 2550.032958984375, 2262.951416015625, 1864.967529296875, 1632.822998046875, 1628.4827880859375, 1363.3455810546875, 1316.5421142578125, 1303.662841796875, 1233.0174560546875, 1178.243896484375, 1094.291015625, 1061.9649658203125, 1051.7001953125, 1029.7308349609375, 979.8178100585938, 966.9409790039062, 15591.595703125, 1527.838623046875, 3174.100341796875, 6969.6396484375, 2763.19482421875, 2288.145263671875, 1604.6395263671875, 1397.44921875, 25822.54296875, 10899.7392578125, 9763.705078125, 9652.880859375, 8988.947265625, 4980.98193359375, 4465.373046875, 4457.1533203125, 3767.136962890625, 3632.502197265625, 2873.65771484375, 2241.005615234375, 1996.98828125, 1969.0235595703125, 1720.179443359375, 1433.6148681640625, 1172.500732421875, 1138.4632568359375, 1086.18603515625, 1038.4017333984375, 1019.4561157226562, 994.7463989257812, 937.2581176757812, 919.5823974609375, 906.5752563476562, 869.0543823242188, 841.4949340820312, 781.7853393554688, 768.2351684570312, 765.5209350585938, 16918.822265625, 1495.53125, 1920.1058349609375, 1941.9171142578125, 1589.5621337890625, 1532.0875244140625, 965.9450073242188, 21934.990234375, 9326.8984375, 8337.7802734375, 7747.9052734375, 7301.62451171875, 6822.71728515625, 6662.24755859375, 5399.37646484375, 3408.0751953125, 2936.170654296875, 2705.127197265625, 2553.928955078125, 2548.662841796875, 2362.127685546875, 2334.794921875, 2144.930908203125, 1984.3436279296875, 1973.2628173828125, 1562.6397705078125, 1203.1922607421875, 1173.02294921875, 1128.687255859375, 1082.14599609375, 999.0328369140625, 849.33984375, 847.0643310546875, 789.1983032226562, 738.7622680664062, 684.3631591796875, 650.1734008789062, 6237.6357421875, 4235.2802734375, 2750.479248046875, 3051.566650390625, 1529.8865966796875, 890.4662475585938, 12205.2197265625, 12133.578125, 11166.4873046875, 10059.9033203125, 6929.015625, 6019.5458984375, 5697.63916015625, 3521.759521484375, 2760.5673828125, 2664.128173828125, 2550.25341796875, 1651.1795654296875, 1647.1087646484375, 1576.022705078125, 1330.6217041015625, 1275.0848388671875, 1272.343994140625, 1092.6171875, 1090.2421875, 1044.183349609375, 928.8401489257812, 860.2621459960938, 807.6364135742188, 723.8709106445312, 723.8709106445312, 659.655029296875, 648.4349365234375, 621.1026611328125, 618.8080444335938, 613.1248779296875, 6448.5537109375, 5559.1943359375, 2139.3154296875, 1152.431640625, 1099.3768310546875, 852.697021484375, 6704.30126953125, 6537.7509765625, 6163.0634765625, 5464.6376953125, 4854.60107421875, 4149.0458984375, 3937.25537109375, 3892.515869140625, 3775.091064453125, 3603.546142578125, 3591.565185546875, 3252.864013671875, 2802.949462890625, 2371.424072265625, 2095.01171875, 1934.656982421875, 1611.8563232421875, 1386.4971923828125, 1379.960693359375, 1349.50341796875, 1197.1314697265625, 1109.600341796875, 1081.909423828125, 1049.85986328125, 967.4340209960938, 949.7775268554688, 916.7835083007812, 881.8489379882812, 850.5686645507812, 827.040283203125, 3403.4326171875, 5697.4580078125, 3640.07177734375, 1316.843017578125, 4358.94140625, 2040.6661376953125, 1746.963623046875, 1205.0076904296875, 13401.591796875, 12589.06640625, 4388.15478515625, 4282.45947265625, 3887.6083984375, 3591.006591796875, 3548.58544921875, 3509.67822265625, 3060.33203125, 2949.114501953125, 2362.609130859375, 2180.87255859375, 2133.032958984375, 2010.142822265625, 1943.065673828125, 1916.57177734375, 1853.390380859375, 1853.390380859375, 1663.780029296875, 1532.651611328125, 1488.4381103515625, 1455.5606689453125, 1455.5606689453125, 1325.790771484375, 1277.8231201171875, 1241.6580810546875, 1205.2606201171875, 1117.06396484375, 1080.1846923828125, 1079.02099609375, 1901.3062744140625, 2949.592529296875, 1125.1614990234375, 9006.4189453125, 8621.28125, 8295.3291015625, 5511.61669921875, 4117.345703125, 2931.09521484375, 2917.38427734375, 2761.518798828125, 2450.654541015625, 2300.95751953125, 2271.7978515625, 2104.988525390625, 2005.998291015625, 1786.9281005859375, 1740.198974609375, 1651.2586669921875, 1517.2293701171875, 1463.1610107421875, 1197.83642578125, 1113.6937255859375, 1029.3206787109375, 989.41455078125, 989.41455078125, 932.641845703125, 914.7461547851562, 891.1762084960938, 858.0408325195312, 840.5526123046875, 811.9248046875, 804.9200439453125, 3896.68017578125, 6003.2021484375, 1344.7449951171875, 990.9815673828125, 896.3953857421875, 7605.9853515625, 4706.83203125, 4673.2509765625, 4009.4072265625, 3507.3759765625, 3393.73876953125, 3093.86474609375, 2990.36474609375, 2786.524169921875, 2628.46337890625, 2529.043701171875, 2366.597900390625, 2306.008544921875, 2251.098388671875, 2223.029052734375, 1988.9354248046875, 1902.3646240234375, 1687.7947998046875, 1527.5406494140625, 1514.487060546875, 1477.4556884765625, 1469.3515625, 1366.9088134765625, 1363.5325927734375, 1342.1409912109375, 1341.4317626953125, 1175.5936279296875, 1041.9166259765625, 984.077392578125, 882.4061889648438, 6183.9775390625, 4512.5693359375, 1108.8065185546875, 6285.953125, 6120.9658203125, 5968.18017578125, 5473.52880859375, 4151.5087890625, 3516.753173828125, 3210.4560546875, 2343.7275390625, 2324.162353515625, 2304.005615234375, 2177.354736328125, 1874.0142822265625, 1767.158447265625, 1718.1885986328125, 1710.40087890625, 1668.47119140625, 1550.2645263671875, 1460.9534912109375, 1457.8564453125, 1377.1937255859375, 1282.2347412109375, 1253.622314453125, 1216.75439453125, 918.0662231445312, 875.5525512695312, 874.3365478515625, 865.430908203125, 798.4956665039062, 797.8010864257812, 754.8762817382812, 976.1547241210938, 1318.3118896484375, 1505.9234619140625], \"Total\": [35043.0, 25823.0, 21935.0, 27135.0, 16833.0, 13402.0, 16288.0, 12589.0, 24142.0, 12206.0, 12134.0, 13769.0, 11167.0, 10060.0, 10900.0, 9007.0, 8622.0, 10742.0, 9327.0, 8296.0, 9764.0, 9653.0, 9324.0, 12386.0, 9129.0, 7606.0, 8989.0, 8338.0, 8807.0, 20045.0, 35043.8828125, 16288.93359375, 13769.92578125, 10742.9306640625, 8211.7431640625, 5740.8486328125, 4068.0244140625, 2511.5126953125, 2491.73193359375, 2416.375244140625, 1820.0623779296875, 1754.357666015625, 1641.440185546875, 1510.4561767578125, 1224.5863037109375, 1135.212158203125, 1102.5498046875, 1069.3804931640625, 1017.07958984375, 992.3335571289062, 923.4476928710938, 904.1732177734375, 870.07763671875, 864.2486572265625, 832.810546875, 830.5776977539062, 776.8615112304688, 717.9190673828125, 691.9307861328125, 649.4673461914062, 12386.9384765625, 2987.2900390625, 3503.45361328125, 5254.1337890625, 27135.373046875, 2256.131591796875, 5646.41064453125, 24142.201171875, 5663.5458984375, 7521.525390625, 3092.541748046875, 16833.3984375, 9324.705078125, 9129.9287109375, 8807.8232421875, 5541.875, 5048.99853515625, 4623.947265625, 4172.8330078125, 3728.147705078125, 3289.18359375, 2834.89453125, 2775.05908203125, 2712.675537109375, 2601.118896484375, 2550.935546875, 2263.85400390625, 1865.8701171875, 1633.7255859375, 1629.3853759765625, 1364.2481689453125, 1317.44482421875, 1304.5654296875, 1233.9200439453125, 1179.146484375, 1095.19384765625, 1062.8675537109375, 1052.602783203125, 1030.6334228515625, 980.7205810546875, 967.8436279296875, 24142.201171875, 1785.15283203125, 5646.41064453125, 20045.88671875, 4848.12353515625, 4055.26904296875, 4153.6298828125, 7095.69970703125, 25823.48046875, 10900.6767578125, 9764.642578125, 9653.818359375, 8989.884765625, 4981.919921875, 4466.31103515625, 4458.09130859375, 3768.075439453125, 3633.440673828125, 2874.595947265625, 2241.94384765625, 1997.926513671875, 1969.9617919921875, 1721.1177978515625, 1434.5531005859375, 1173.43896484375, 1139.4014892578125, 1087.124267578125, 1039.3399658203125, 1020.3944091796875, 995.6846313476562, 938.1962890625, 920.5206298828125, 907.513427734375, 869.9925537109375, 842.4332275390625, 782.7235107421875, 769.17333984375, 766.459228515625, 27135.373046875, 1764.940185546875, 2472.160400390625, 2740.833251953125, 2281.61669921875, 3672.2412109375, 1398.02783203125, 21935.8984375, 9327.8046875, 8338.6865234375, 7748.81298828125, 7302.5322265625, 6823.625, 6663.1552734375, 5400.2841796875, 3408.982666015625, 2937.078125, 2706.03466796875, 2554.83642578125, 2549.570068359375, 2363.034912109375, 2335.702392578125, 2145.838134765625, 1985.2510986328125, 1974.1702880859375, 1563.5472412109375, 1204.0997314453125, 1173.930419921875, 1129.5947265625, 1083.053466796875, 999.9403076171875, 850.2473754882812, 847.9718017578125, 790.1057739257812, 739.6697998046875, 685.2706298828125, 651.0808715820312, 8279.0986328125, 6462.1923828125, 4069.5849609375, 20045.88671875, 12386.9384765625, 1422.0694580078125, 12206.130859375, 12134.4892578125, 11167.3984375, 10060.814453125, 6929.92724609375, 6020.45751953125, 5698.55078125, 3522.670654296875, 2761.478515625, 2665.039306640625, 2551.16455078125, 1652.0909423828125, 1648.0201416015625, 1576.9342041015625, 1331.533203125, 1275.996337890625, 1273.25537109375, 1093.528564453125, 1091.153564453125, 1045.0947265625, 929.7515869140625, 861.1734619140625, 808.5477294921875, 724.7822265625, 724.7822265625, 660.56640625, 649.3462524414062, 622.0139770507812, 619.7194213867188, 614.0362548828125, 8196.3173828125, 7521.525390625, 3672.2412109375, 2049.646728515625, 4153.6298828125, 5366.0869140625, 6705.2021484375, 6538.65185546875, 6163.96435546875, 5465.53857421875, 4855.501953125, 4149.94677734375, 3938.156005859375, 3893.41650390625, 3775.99169921875, 3604.44677734375, 3592.4658203125, 3253.7646484375, 2803.85009765625, 2372.32470703125, 2095.912353515625, 1935.557861328125, 1612.7572021484375, 1387.3980712890625, 1380.861572265625, 1350.404296875, 1198.0323486328125, 1110.501220703125, 1082.810302734375, 1050.7607421875, 968.3348388671875, 950.6782836914062, 917.6842651367188, 882.7496948242188, 851.4694213867188, 827.9410400390625, 3906.453125, 7095.69970703125, 5227.62646484375, 1635.0904541015625, 24142.201171875, 8279.0986328125, 8196.3173828125, 4848.12353515625, 13402.494140625, 12589.96875, 4389.05712890625, 4283.36181640625, 3888.5107421875, 3591.908935546875, 3549.48779296875, 3510.58056640625, 3061.234375, 2950.016845703125, 2363.511474609375, 2181.77490234375, 2133.935546875, 2011.045166015625, 1943.96826171875, 1917.4742431640625, 1854.292724609375, 1854.292724609375, 1664.6824951171875, 1533.5540771484375, 1489.3404541015625, 1456.4630126953125, 1456.4630126953125, 1326.6932373046875, 1278.7255859375, 1242.5604248046875, 1206.1629638671875, 1117.9664306640625, 1081.087158203125, 1079.9234619140625, 2141.58056640625, 20045.88671875, 4153.6298828125, 9007.337890625, 8622.2001953125, 8296.248046875, 5512.53662109375, 4118.265625, 2932.0146484375, 2918.3037109375, 2762.438232421875, 2451.573974609375, 2301.876953125, 2272.71728515625, 2105.907958984375, 2006.91796875, 1787.847900390625, 1741.11865234375, 1652.1783447265625, 1518.1490478515625, 1464.0806884765625, 1198.756103515625, 1114.6134033203125, 1030.2403564453125, 990.3341674804688, 990.3341674804688, 933.5615234375, 915.665771484375, 892.0958251953125, 858.96044921875, 841.4722290039062, 812.844482421875, 805.8396606445312, 5663.5458984375, 20045.88671875, 7529.55126953125, 1950.28955078125, 2049.646728515625, 7606.9052734375, 4707.751953125, 4674.1708984375, 4010.3271484375, 3508.2958984375, 3394.658935546875, 3094.78466796875, 2991.28466796875, 2787.4443359375, 2629.38330078125, 2529.9638671875, 2367.517822265625, 2306.928466796875, 2252.018310546875, 2223.948974609375, 1989.8553466796875, 1903.2845458984375, 1688.71484375, 1528.4605712890625, 1515.406982421875, 1478.375732421875, 1470.2716064453125, 1367.828857421875, 1364.4525146484375, 1343.0609130859375, 1342.3516845703125, 1176.513671875, 1042.8365478515625, 984.9973754882812, 883.326171875, 7529.55126953125, 5366.0869140625, 5254.1337890625, 6286.8505859375, 6121.86328125, 5969.07763671875, 5474.42626953125, 4152.40625, 3517.650634765625, 3211.353515625, 2344.625, 2325.059814453125, 2304.903076171875, 2178.252197265625, 1874.9117431640625, 1768.055908203125, 1719.0860595703125, 1711.29833984375, 1669.36865234375, 1551.1619873046875, 1461.8509521484375, 1458.75390625, 1378.0911865234375, 1283.1322021484375, 1254.519775390625, 1217.65185546875, 918.9636840820312, 876.4500732421875, 875.2340698242188, 866.328857421875, 799.3931274414062, 798.6985473632812, 755.7737426757812, 985.5556030273438, 4069.5849609375, 6462.1923828125], \"Category\": [\"Default\", \"Default\", \"Default\", \"Default\", \"Default\", \"Default\", \"Default\", \"Default\", \"Default\", \"Default\", \"Default\", \"Default\", \"Default\", \"Default\", \"Default\", \"Default\", \"Default\", \"Default\", \"Default\", \"Default\", \"Default\", \"Default\", \"Default\", \"Default\", \"Default\", \"Default\", \"Default\", \"Default\", \"Default\", \"Default\", \"Topic1\", \"Topic1\", \"Topic1\", \"Topic1\", \"Topic1\", \"Topic1\", \"Topic1\", \"Topic1\", \"Topic1\", \"Topic1\", \"Topic1\", \"Topic1\", \"Topic1\", \"Topic1\", \"Topic1\", \"Topic1\", \"Topic1\", \"Topic1\", \"Topic1\", \"Topic1\", \"Topic1\", \"Topic1\", \"Topic1\", \"Topic1\", \"Topic1\", \"Topic1\", \"Topic1\", \"Topic1\", \"Topic1\", \"Topic1\", \"Topic1\", \"Topic1\", \"Topic1\", \"Topic1\", \"Topic1\", \"Topic1\", \"Topic1\", \"Topic1\", \"Topic1\", \"Topic1\", \"Topic1\", \"Topic2\", \"Topic2\", \"Topic2\", \"Topic2\", \"Topic2\", \"Topic2\", \"Topic2\", \"Topic2\", \"Topic2\", \"Topic2\", \"Topic2\", \"Topic2\", \"Topic2\", \"Topic2\", \"Topic2\", \"Topic2\", \"Topic2\", \"Topic2\", \"Topic2\", \"Topic2\", \"Topic2\", \"Topic2\", \"Topic2\", \"Topic2\", \"Topic2\", \"Topic2\", \"Topic2\", \"Topic2\", \"Topic2\", \"Topic2\", \"Topic2\", \"Topic2\", \"Topic2\", \"Topic2\", \"Topic2\", \"Topic2\", \"Topic2\", \"Topic2\", \"Topic3\", \"Topic3\", \"Topic3\", \"Topic3\", \"Topic3\", \"Topic3\", \"Topic3\", \"Topic3\", \"Topic3\", \"Topic3\", \"Topic3\", \"Topic3\", \"Topic3\", \"Topic3\", \"Topic3\", \"Topic3\", \"Topic3\", \"Topic3\", \"Topic3\", \"Topic3\", \"Topic3\", \"Topic3\", \"Topic3\", \"Topic3\", \"Topic3\", \"Topic3\", \"Topic3\", \"Topic3\", \"Topic3\", \"Topic3\", \"Topic3\", \"Topic3\", \"Topic3\", \"Topic3\", \"Topic3\", \"Topic3\", \"Topic3\", \"Topic4\", \"Topic4\", \"Topic4\", \"Topic4\", \"Topic4\", \"Topic4\", \"Topic4\", \"Topic4\", \"Topic4\", \"Topic4\", \"Topic4\", \"Topic4\", \"Topic4\", \"Topic4\", \"Topic4\", \"Topic4\", \"Topic4\", \"Topic4\", \"Topic4\", \"Topic4\", \"Topic4\", \"Topic4\", \"Topic4\", \"Topic4\", \"Topic4\", \"Topic4\", \"Topic4\", \"Topic4\", \"Topic4\", \"Topic4\", \"Topic4\", \"Topic4\", \"Topic4\", \"Topic4\", \"Topic4\", \"Topic4\", \"Topic5\", \"Topic5\", \"Topic5\", \"Topic5\", \"Topic5\", \"Topic5\", \"Topic5\", \"Topic5\", \"Topic5\", \"Topic5\", \"Topic5\", \"Topic5\", \"Topic5\", \"Topic5\", \"Topic5\", \"Topic5\", \"Topic5\", \"Topic5\", \"Topic5\", \"Topic5\", \"Topic5\", \"Topic5\", \"Topic5\", \"Topic5\", \"Topic5\", \"Topic5\", \"Topic5\", \"Topic5\", \"Topic5\", \"Topic5\", \"Topic5\", \"Topic5\", \"Topic5\", \"Topic5\", \"Topic5\", \"Topic5\", \"Topic6\", \"Topic6\", \"Topic6\", \"Topic6\", \"Topic6\", \"Topic6\", \"Topic6\", \"Topic6\", \"Topic6\", \"Topic6\", \"Topic6\", \"Topic6\", \"Topic6\", \"Topic6\", \"Topic6\", \"Topic6\", \"Topic6\", \"Topic6\", \"Topic6\", \"Topic6\", \"Topic6\", \"Topic6\", \"Topic6\", \"Topic6\", \"Topic6\", \"Topic6\", \"Topic6\", \"Topic6\", \"Topic6\", \"Topic6\", \"Topic6\", \"Topic6\", \"Topic6\", \"Topic6\", \"Topic6\", \"Topic6\", \"Topic6\", \"Topic6\", \"Topic7\", \"Topic7\", \"Topic7\", \"Topic7\", \"Topic7\", \"Topic7\", \"Topic7\", \"Topic7\", \"Topic7\", \"Topic7\", \"Topic7\", \"Topic7\", \"Topic7\", \"Topic7\", \"Topic7\", \"Topic7\", \"Topic7\", \"Topic7\", \"Topic7\", \"Topic7\", \"Topic7\", \"Topic7\", \"Topic7\", \"Topic7\", \"Topic7\", \"Topic7\", \"Topic7\", \"Topic7\", \"Topic7\", \"Topic7\", \"Topic7\", \"Topic7\", \"Topic7\", \"Topic8\", \"Topic8\", \"Topic8\", \"Topic8\", \"Topic8\", \"Topic8\", \"Topic8\", \"Topic8\", \"Topic8\", \"Topic8\", \"Topic8\", \"Topic8\", \"Topic8\", \"Topic8\", \"Topic8\", \"Topic8\", \"Topic8\", \"Topic8\", \"Topic8\", \"Topic8\", \"Topic8\", \"Topic8\", \"Topic8\", \"Topic8\", \"Topic8\", \"Topic8\", \"Topic8\", \"Topic8\", \"Topic8\", \"Topic8\", \"Topic8\", \"Topic8\", \"Topic8\", \"Topic8\", \"Topic8\", \"Topic9\", \"Topic9\", \"Topic9\", \"Topic9\", \"Topic9\", \"Topic9\", \"Topic9\", \"Topic9\", \"Topic9\", \"Topic9\", \"Topic9\", \"Topic9\", \"Topic9\", \"Topic9\", \"Topic9\", \"Topic9\", \"Topic9\", \"Topic9\", \"Topic9\", \"Topic9\", \"Topic9\", \"Topic9\", \"Topic9\", \"Topic9\", \"Topic9\", \"Topic9\", \"Topic9\", \"Topic9\", \"Topic9\", \"Topic9\", \"Topic9\", \"Topic9\", \"Topic9\", \"Topic10\", \"Topic10\", \"Topic10\", \"Topic10\", \"Topic10\", \"Topic10\", \"Topic10\", \"Topic10\", \"Topic10\", \"Topic10\", \"Topic10\", \"Topic10\", \"Topic10\", \"Topic10\", \"Topic10\", \"Topic10\", \"Topic10\", \"Topic10\", \"Topic10\", \"Topic10\", \"Topic10\", \"Topic10\", \"Topic10\", \"Topic10\", \"Topic10\", \"Topic10\", \"Topic10\", \"Topic10\", \"Topic10\", \"Topic10\", \"Topic10\", \"Topic10\", \"Topic10\"], \"logprob\": [30.0, 29.0, 28.0, 27.0, 26.0, 25.0, 24.0, 23.0, 22.0, 21.0, 20.0, 19.0, 18.0, 17.0, 16.0, 15.0, 14.0, 13.0, 12.0, 11.0, 10.0, 9.0, 8.0, 7.0, 6.0, 5.0, 4.0, 3.0, 2.0, 1.0, -1.695199966430664, -2.4612998962402344, -2.629300117492676, -2.8775999546051025, -3.1463000774383545, -3.504300117492676, -3.84879994392395, -4.331200122833252, -4.339099884033203, -4.369900226593018, -4.65339994430542, -4.690199851989746, -4.756700038909912, -4.839900016784668, -5.049900054931641, -5.125699996948242, -5.154900074005127, -5.185500144958496, -5.2357001304626465, -5.26039981842041, -5.332399845123291, -5.353499889373779, -5.392000198364258, -5.39870023727417, -5.435800075531006, -5.438499927520752, -5.50540018081665, -5.584400177001953, -5.621300220489502, -5.684700012207031, -2.867000102996826, -4.247099876403809, -4.152100086212158, -4.020899772644043, -2.927799940109253, -4.779699802398682, -4.34689998626709, -3.8187999725341797, -4.683000087738037, -4.664899826049805, -5.203100204467773, -2.2913999557495117, -2.8821001052856445, -2.9031999111175537, -2.9391000270843506, -3.4024999141693115, -3.495699882507324, -3.5836000442504883, -3.686300039291382, -3.7990000247955322, -3.924299955368042, -4.072999954223633, -4.094299793243408, -4.117099761962891, -4.15910005569458, -4.178599834442139, -4.297999858856201, -4.491399765014648, -4.6244001388549805, -4.626999855041504, -4.804699897766113, -4.839700222015381, -4.8495001792907715, -4.905200004577637, -4.950699806213379, -5.024600028991699, -5.054599761962891, -5.064300060272217, -5.085400104522705, -5.1350998878479, -5.1483001708984375, -2.368000030517578, -4.690800189971924, -3.959700107574463, -3.173099994659424, -4.098299980163574, -4.286900043487549, -4.6417999267578125, -4.78000020980835, -1.857300043106079, -2.7197999954223633, -2.8297998905181885, -2.841200113296509, -2.9124999046325684, -3.5028998851776123, -3.6120998859405518, -3.614000082015991, -3.7822000980377197, -3.8185999393463135, -4.0528998374938965, -4.301599979400635, -4.416900157928467, -4.431000232696533, -4.566100120544434, -4.748300075531006, -4.949399948120117, -4.978799819946289, -5.0258002281188965, -5.070799827575684, -5.089200019836426, -5.113800048828125, -5.173299789428711, -5.192299842834473, -5.206600189208984, -5.248899936676025, -5.281099796295166, -5.354700088500977, -5.372200012207031, -5.375699996948242, -2.280100107192993, -4.705999851226807, -4.456099987030029, -4.444799900054932, -4.644999980926514, -4.6819000244140625, -5.143199920654297, -1.8997000455856323, -2.7548000812530518, -2.867000102996826, -2.9402999877929688, -2.9997000694274902, -3.067500114440918, -3.0913000106811523, -3.301500082015991, -3.7616000175476074, -3.910599946975708, -3.9925999641418457, -4.050099849700928, -4.052199840545654, -4.128200054168701, -4.139800071716309, -4.224599838256836, -4.302499771118164, -4.30810022354126, -4.541399955749512, -4.802800178527832, -4.828199863433838, -4.866700172424316, -4.90880012512207, -4.988699913024902, -5.151000022888184, -5.15369987487793, -5.2245001792907715, -5.290500164031982, -5.367000102996826, -5.418300151824951, -3.157099962234497, -3.544300079345703, -3.9760000705718994, -3.8721001148223877, -4.562600135803223, -5.103799819946289, -2.411799907684326, -2.4177000522613525, -2.500699996948242, -2.60509991645813, -2.9779000282287598, -3.1185998916625977, -3.1735999584198, -3.6547000408172607, -3.898200035095215, -3.933799982070923, -3.977400064468384, -4.412099838256836, -4.414599895477295, -4.458700180053711, -4.627999782562256, -4.670599937438965, -4.672800064086914, -4.825099945068359, -4.827199935913086, -4.8703999519348145, -4.987400054931641, -5.0640997886657715, -5.127299785614014, -5.236800193786621, -5.236800193786621, -5.329699993133545, -5.346799850463867, -5.389900207519531, -5.393599987030029, -5.4028000831604, -3.049799919128418, -3.198199987411499, -4.15310001373291, -4.7718000411987305, -4.818900108337402, -5.072999954223633, -2.9683001041412354, -2.9934000968933105, -3.0524001121520996, -3.1726999282836914, -3.291100025177002, -3.4481000900268555, -3.500499963760376, -3.51200008392334, -3.54259991645813, -3.589099884033203, -3.592400074005127, -3.691499948501587, -3.8403000831604004, -4.007500171661377, -4.131400108337402, -4.211100101470947, -4.393599987030029, -4.5441999435424805, -4.548999786376953, -4.571300029754639, -4.691100120544434, -4.767000198364258, -4.792300224304199, -4.822400093078613, -4.904099941253662, -4.922500133514404, -4.957900047302246, -4.996699810028076, -5.032899856567383, -5.0609002113342285, -3.646199941635132, -3.13100004196167, -3.5789999961853027, -4.595799922943115, -3.3987998962402344, -4.157700061798096, -4.3130998611450195, -4.684500217437744, -2.229300022125244, -2.2918999195098877, -3.3457999229431152, -3.3701999187469482, -3.466900110244751, -3.546299934387207, -3.5580999851226807, -3.569200038909912, -3.706199884414673, -3.7432000637054443, -3.964900016784668, -4.045000076293945, -4.0671000480651855, -4.126500129699707, -4.160399913787842, -4.174200057983398, -4.207699775695801, -4.207699775695801, -4.3155999183654785, -4.39769983291626, -4.427000045776367, -4.4492998123168945, -4.4492998123168945, -4.542699813842773, -4.579500198364258, -4.6082000732421875, -4.638000011444092, -4.714000225067139, -4.747600078582764, -4.748600006103516, -4.182199954986572, -3.743000030517578, -4.7067999839782715, -2.5341999530792236, -2.577899932861328, -2.6164000034332275, -3.0251998901367188, -3.3169000148773193, -3.6566998958587646, -3.661400079727173, -3.7163000106811523, -3.8357999324798584, -3.8987998962402344, -3.9114999771118164, -3.987799882888794, -4.035999774932861, -4.151599884033203, -4.178100109100342, -4.230599880218506, -4.315199851989746, -4.351500034332275, -4.551599979400635, -4.6244001388549805, -4.703199863433838, -4.742700099945068, -4.742700099945068, -4.801799774169922, -4.821199893951416, -4.847300052642822, -4.885200023651123, -4.905799865722656, -4.940499782562256, -4.949100017547607, -3.371999979019165, -2.9398000240325928, -4.4359002113342285, -4.741199970245361, -4.8414998054504395, -2.6893999576568604, -3.169300079345703, -3.176500082015991, -3.329699993133545, -3.463399887084961, -3.4964001178741455, -3.588900089263916, -3.6229000091552734, -3.69350004196167, -3.7518999576568604, -3.7904999256134033, -3.8568999767303467, -3.8828001022338867, -3.906899929046631, -3.9193999767303467, -4.030700206756592, -4.075200080871582, -4.194900035858154, -4.294600009918213, -4.303199768066406, -4.328000068664551, -4.333499908447266, -4.405799865722656, -4.408199787139893, -4.423999786376953, -4.424600124359131, -4.55649995803833, -4.677199840545654, -4.734399795532227, -4.843400001525879, -2.8963000774383545, -3.211400032043457, -4.614999771118164, -2.7771999835968018, -2.803800106048584, -2.8290998935699463, -2.915600061416626, -3.1921000480651855, -3.3580000400543213, -3.4491000175476074, -3.7637999057769775, -3.772200107574463, -3.780900001525879, -3.837399959564209, -3.987499952316284, -4.046199798583984, -4.0742998123168945, -4.078800201416016, -4.103600025177002, -4.17710018157959, -4.236400127410889, -4.23859977722168, -4.295499801635742, -4.3668999671936035, -4.389500141143799, -4.419400215148926, -4.701000213623047, -4.7484002113342285, -4.749800205230713, -4.7600998878479, -4.84060001373291, -4.841400146484375, -4.896699905395508, -4.639699935913086, -4.339200019836426, -4.206099987030029], \"loglift\": [30.0, 29.0, 28.0, 27.0, 26.0, 25.0, 24.0, 23.0, 22.0, 21.0, 20.0, 19.0, 18.0, 17.0, 16.0, 15.0, 14.0, 13.0, 12.0, 11.0, 10.0, 9.0, 8.0, 7.0, 6.0, 5.0, 4.0, 3.0, 2.0, 1.0, 1.983199954032898, 1.9831000566482544, 1.9831000566482544, 1.9831000566482544, 1.9831000566482544, 1.9830000400543213, 1.9830000400543213, 1.982800006866455, 1.982800006866455, 1.982800006866455, 1.982699990272522, 1.982699990272522, 1.9825999736785889, 1.9825999736785889, 1.9824999570846558, 1.9823999404907227, 1.9823999404907227, 1.9823999404907227, 1.982300043106079, 1.982300043106079, 1.982200026512146, 1.982200026512146, 1.982200026512146, 1.982200026512146, 1.982100009918213, 1.982100009918213, 1.9819999933242798, 1.9818999767303467, 1.9818999767303467, 1.9817999601364136, 1.8513000011444092, 1.8934999704360962, 1.8291000127792358, 1.5549999475479126, 1.0062999725341797, 1.6416000127792358, 1.156999945640564, 0.2321999967098236, 0.8179000020027161, 0.552299976348877, 0.902899980545044, 2.1201999187469482, 2.1201999187469482, 2.1201999187469482, 2.1201999187469482, 2.1201000213623047, 2.1201000213623047, 2.1201000213623047, 2.119999885559082, 2.119999885559082, 2.119999885559082, 2.1198999881744385, 2.1198999881744385, 2.1198999881744385, 2.1198999881744385, 2.1198999881744385, 2.1198999881744385, 2.119800090789795, 2.1196999549865723, 2.1196999549865723, 2.1196000576019287, 2.1196000576019287, 2.1196000576019287, 2.119499921798706, 2.119499921798706, 2.1194000244140625, 2.1194000244140625, 2.1194000244140625, 2.1194000244140625, 2.11929988861084, 2.11929988861084, 1.6829999685287476, 1.9645999670028687, 1.5442999601364136, 1.0637999773025513, 1.5580999851226807, 1.5479999780654907, 1.1691999435424805, 0.49540001153945923, 2.1263999938964844, 2.1263999938964844, 2.126300096511841, 2.126300096511841, 2.126300096511841, 2.126300096511841, 2.126199960708618, 2.126199960708618, 2.126199960708618, 2.126199960708618, 2.1261000633239746, 2.125999927520752, 2.125999927520752, 2.125999927520752, 2.1259000301361084, 2.1257998943328857, 2.1256000995635986, 2.1256000995635986, 2.1256000995635986, 2.125499963760376, 2.125499963760376, 2.125499963760376, 2.1254000663757324, 2.1254000663757324, 2.1254000663757324, 2.1254000663757324, 2.1252999305725098, 2.125200033187866, 2.125200033187866, 2.125200033187866, 1.6540000438690186, 1.960800051689148, 1.8737000226974487, 1.7819000482559204, 1.7649999856948853, 1.2523000240325928, 1.756700038909912, 2.2472000122070312, 2.2471001148223877, 2.2471001148223877, 2.2471001148223877, 2.2471001148223877, 2.2471001148223877, 2.2471001148223877, 2.246999979019165, 2.2469000816345215, 2.2469000816345215, 2.2469000816345215, 2.246799945831299, 2.246799945831299, 2.246799945831299, 2.246799945831299, 2.246799945831299, 2.2467000484466553, 2.2467000484466553, 2.2465999126434326, 2.2464001178741455, 2.2464001178741455, 2.2464001178741455, 2.2464001178741455, 2.246299982070923, 2.2460999488830566, 2.2460999488830566, 2.246000051498413, 2.246000051498413, 2.2458999156951904, 2.245800018310547, 1.9641000032424927, 1.8246999979019165, 1.8553999662399292, 0.36480000615119934, 0.15569999814033508, 1.779099941253662, 2.321199893951416, 2.321199893951416, 2.321199893951416, 2.321199893951416, 2.321199893951416, 2.321199893951416, 2.321199893951416, 2.3210999965667725, 2.321000099182129, 2.321000099182129, 2.321000099182129, 2.3208000659942627, 2.3208000659942627, 2.32069993019104, 2.3206000328063965, 2.3206000328063965, 2.3206000328063965, 2.320499897003174, 2.320499897003174, 2.3203999996185303, 2.3203001022338867, 2.3203001022338867, 2.320199966430664, 2.3201000690460205, 2.3201000690460205, 2.3199000358581543, 2.3199000358581543, 2.3197999000549316, 2.3197999000549316, 2.3197999000549316, 2.0815000534057617, 2.0190000534057617, 1.781000018119812, 1.7454999685287476, 0.9921000003814697, 0.48190000653266907, 2.363800048828125, 2.363800048828125, 2.363800048828125, 2.363800048828125, 2.363800048828125, 2.3636999130249023, 2.3636999130249023, 2.3636999130249023, 2.3636999130249023, 2.3636999130249023, 2.3636999130249023, 2.3636999130249023, 2.363600015640259, 2.363600015640259, 2.3635001182556152, 2.3635001182556152, 2.3633999824523926, 2.363300085067749, 2.363300085067749, 2.363300085067749, 2.3631999492645264, 2.363100051879883, 2.363100051879883, 2.363100051879883, 2.36299991607666, 2.36299991607666, 2.36299991607666, 2.3629000186920166, 2.3629000186920166, 2.362799882888794, 2.226099967956543, 2.1445000171661377, 2.002000093460083, 2.1475000381469727, 0.6521999835968018, 0.9635000228881836, 0.8180999755859375, 0.9718000292778015, 2.4102001190185547, 2.4102001190185547, 2.4100000858306885, 2.4100000858306885, 2.4100000858306885, 2.4100000858306885, 2.4100000858306885, 2.4100000858306885, 2.4100000858306885, 2.409899950027466, 2.409899950027466, 2.4098000526428223, 2.4098000526428223, 2.4098000526428223, 2.4098000526428223, 2.4098000526428223, 2.4098000526428223, 2.4098000526428223, 2.4096999168395996, 2.4096999168395996, 2.409600019454956, 2.409600019454956, 2.409600019454956, 2.409600019454956, 2.4094998836517334, 2.4094998836517334, 2.4094998836517334, 2.40939998626709, 2.40939998626709, 2.40939998626709, 2.2911999225616455, 0.49390000104904175, 1.104200005531311, 2.502700090408325, 2.502700090408325, 2.502700090408325, 2.502700090408325, 2.5025999546051025, 2.502500057220459, 2.502500057220459, 2.502500057220459, 2.502500057220459, 2.5023999214172363, 2.5023999214172363, 2.5023999214172363, 2.5023999214172363, 2.5023000240325928, 2.5023000240325928, 2.5023000240325928, 2.50219988822937, 2.50219988822937, 2.5020999908447266, 2.502000093460083, 2.5018999576568604, 2.5018999576568604, 2.5018999576568604, 2.5018999576568604, 2.501800060272217, 2.501800060272217, 2.501800060272217, 2.501699924468994, 2.501699924468994, 2.501699924468994, 2.1289000511169434, 1.2970999479293823, 0.7802000045776367, 1.8257999420166016, 1.6757999658584595, 2.5164999961853027, 2.516400098800659, 2.516400098800659, 2.516400098800659, 2.516400098800659, 2.516400098800659, 2.5162999629974365, 2.5162999629974365, 2.5162999629974365, 2.5162999629974365, 2.5162999629974365, 2.516200065612793, 2.516200065612793, 2.516200065612793, 2.516200065612793, 2.516200065612793, 2.516200065612793, 2.5160999298095703, 2.5160000324249268, 2.5160000324249268, 2.5160000324249268, 2.5160000324249268, 2.5160000324249268, 2.5160000324249268, 2.5160000324249268, 2.5160000324249268, 2.515899896621704, 2.5157999992370605, 2.515700101852417, 2.5155999660491943, 2.3197999000549316, 2.343400001525879, 0.9609000086784363, 2.61929988861084, 2.61929988861084, 2.61929988861084, 2.6191999912261963, 2.6191999912261963, 2.6191999912261963, 2.6191000938415527, 2.61899995803833, 2.61899995803833, 2.61899995803833, 2.61899995803833, 2.6189000606536865, 2.6189000606536865, 2.6189000606536865, 2.6189000606536865, 2.6189000606536865, 2.618799924850464, 2.618799924850464, 2.618799924850464, 2.618799924850464, 2.6187000274658203, 2.6187000274658203, 2.6187000274658203, 2.6184000968933105, 2.6184000968933105, 2.6184000968933105, 2.6184000968933105, 2.618299961090088, 2.618299961090088, 2.6182000637054443, 2.609800100326538, 1.4922000169754028, 1.1627999544143677]}, \"token.table\": {\"Topic\": [4, 1, 6, 7, 3, 1, 5, 4, 4, 9, 9, 6, 8, 2, 1, 6, 6, 9, 10, 1, 3, 9, 9, 3, 7, 10, 9, 8, 5, 3, 6, 2, 4, 7, 8, 9, 4, 8, 7, 4, 10, 2, 2, 4, 3, 1, 5, 8, 1, 3, 10, 2, 8, 1, 4, 7, 10, 8, 7, 8, 2, 1, 10, 3, 4, 4, 6, 3, 7, 9, 6, 6, 5, 10, 5, 9, 10, 4, 10, 10, 9, 8, 7, 2, 3, 5, 7, 6, 7, 9, 2, 4, 5, 3, 7, 2, 4, 1, 6, 7, 5, 8, 1, 10, 8, 10, 4, 1, 2, 6, 9, 2, 8, 4, 10, 5, 4, 7, 2, 6, 2, 3, 7, 10, 10, 9, 1, 5, 6, 2, 3, 10, 1, 5, 3, 3, 8, 8, 9, 7, 8, 3, 1, 8, 4, 5, 6, 1, 5, 3, 2, 4, 6, 10, 3, 5, 4, 5, 7, 8, 3, 4, 7, 5, 5, 2, 5, 7, 9, 6, 9, 6, 6, 4, 6, 3, 2, 1, 1, 6, 4, 7, 8, 7, 7, 9, 7, 4, 7, 10, 5, 4, 6, 5, 9, 7, 6, 8, 9, 5, 8, 6, 10, 2, 9, 10, 1, 4, 8, 3, 8, 6, 8, 6, 1, 4, 2, 4, 10, 4, 6, 10, 10, 2, 6, 8, 9, 6, 1, 9, 9, 9, 2, 1, 3, 5, 8, 7, 4, 10, 3, 1, 6, 9, 6, 10, 8, 1, 10, 10, 2, 4, 7, 2, 10, 1, 1, 1, 2, 5, 2, 10, 5, 7, 5, 10, 8, 9, 10, 9, 6, 10, 5, 5, 3, 2, 8, 10, 7, 1, 2, 6, 8, 3, 8, 7, 4, 2, 6, 5, 9, 9, 3, 6, 2, 7, 1, 3, 1, 3, 10, 4, 2, 4, 5, 1, 8, 1, 1, 5, 5, 5, 1, 8, 8, 3, 9, 4, 8, 4, 2, 2, 7, 2, 5, 1, 5, 7, 3, 1, 8, 1, 2, 7, 10, 4, 7, 6, 1, 2, 2, 8, 3, 8, 3, 6, 3, 7, 9, 2, 2, 7, 2, 5, 9, 9, 6, 1, 1, 3, 9, 10, 6, 2, 8, 9, 3, 7, 8, 8, 9, 1, 3, 6, 3, 4, 3, 4, 2, 1, 10, 7, 1, 8, 9, 3, 4, 5, 3, 5], \"Freq\": [0.9981458187103271, 0.9987024664878845, 0.9998760223388672, 0.999862551689148, 0.9993505477905273, 0.9995211958885193, 0.9999240040779114, 0.9997117519378662, 0.9996725916862488, 0.9996306300163269, 0.999840259552002, 0.8711227178573608, 0.12850531935691833, 0.9991837739944458, 0.99997478723526, 0.9998703598976135, 0.9998930096626282, 0.9996986985206604, 0.9992508888244629, 0.999304473400116, 0.9997064471244812, 0.9998406171798706, 0.999749481678009, 0.6968742609024048, 0.3028554320335388, 0.9991801381111145, 0.9996683597564697, 0.9996843934059143, 0.9993396401405334, 0.999937891960144, 0.9998966455459595, 0.3477022647857666, 0.15225069224834442, 0.14716236293315887, 0.2994629442691803, 0.05342742055654526, 0.9988539814949036, 0.9989610910415649, 0.999868631362915, 0.9996992945671082, 0.9994027614593506, 0.9999169111251831, 0.9990277290344238, 0.9986004829406738, 0.9997146129608154, 0.23904725909233093, 0.7390788197517395, 0.02167113684117794, 0.9988910555839539, 0.999934196472168, 0.9985899925231934, 0.9998982548713684, 0.9986528158187866, 0.9992260932922363, 0.6553503274917603, 0.11141729354858398, 0.23304784297943115, 0.9996926784515381, 0.9990358352661133, 0.9992867708206177, 0.9989099502563477, 0.8571541905403137, 0.14271631836891174, 0.998769998550415, 0.9985329508781433, 0.9997621774673462, 0.9997718334197998, 0.9999814033508301, 0.999302864074707, 0.9994739294052124, 0.9997006058692932, 0.9998435378074646, 0.9993225932121277, 0.999241292476654, 0.15896126627922058, 0.8410225510597229, 0.9991176128387451, 0.9997764229774475, 0.9989762306213379, 0.99948650598526, 0.9996190071105957, 0.9996190071105957, 0.9997591376304626, 0.3864090144634247, 0.07800406217575073, 0.2645878493785858, 0.2708474397659302, 0.9988633990287781, 0.9996820688247681, 0.9993250966072083, 0.9996183514595032, 0.9995620250701904, 0.9991425275802612, 0.9999015927314758, 0.9995900392532349, 0.9991283416748047, 0.9999590516090393, 0.9986547827720642, 0.8054600358009338, 0.1938730627298355, 0.562048077583313, 0.4371485114097595, 0.999515175819397, 0.9999021887779236, 0.9998495578765869, 0.9995442032814026, 0.9999083876609802, 0.9994162917137146, 0.2119508683681488, 0.6963006854057312, 0.09162858128547668, 0.49120911955833435, 0.5081296563148499, 0.6757445931434631, 0.32386595010757446, 0.9995995759963989, 0.9992074370384216, 0.9995967745780945, 0.9995336532592773, 0.9995647072792053, 0.99984210729599, 0.998298704624176, 0.9994803071022034, 0.9998194575309753, 0.9993682503700256, 0.9991978406906128, 0.9996979832649231, 0.9998267292976379, 0.9994487166404724, 0.9996623396873474, 0.999434232711792, 0.9998646974563599, 0.9994308352470398, 0.9991916418075562, 0.9994344115257263, 0.8476207852363586, 0.15241310000419617, 0.9995425939559937, 0.9995701313018799, 0.9997527003288269, 0.9993692636489868, 0.9997926950454712, 0.9985551834106445, 0.9995532631874084, 0.9998266100883484, 0.7868167757987976, 0.21314451098442078, 0.9997318387031555, 0.998920738697052, 0.9986334443092346, 0.5699112415313721, 0.11901511996984482, 0.24854977428913116, 0.06249840557575226, 0.9987248778343201, 0.9983698725700378, 0.9999176859855652, 0.999907374382019, 0.9995489716529846, 0.9987960457801819, 0.7085436582565308, 0.29115232825279236, 0.9989944100379944, 0.9986373782157898, 0.9999597072601318, 0.9999065399169922, 0.9996100068092346, 0.9996386766433716, 0.9984986782073975, 0.9998207092285156, 0.9997464418411255, 0.9994416236877441, 0.9997373819351196, 0.9983398914337158, 0.9995304942131042, 0.9996259212493896, 0.999385416507721, 0.9999426603317261, 0.999852180480957, 0.9996967911720276, 0.6258484721183777, 0.3733994960784912, 0.9998608231544495, 0.9996553063392639, 0.9996820688247681, 0.9995478391647339, 0.9996820688247681, 0.9996094107627869, 0.9994774460792542, 0.9984661340713501, 0.9995435476303101, 0.7534636855125427, 0.24652442336082458, 0.9998096227645874, 0.9990715384483337, 0.9996448159217834, 0.9992543458938599, 0.17862950265407562, 0.821297287940979, 0.998920738697052, 0.9992618560791016, 0.9991507530212402, 0.9995856881141663, 0.564204216003418, 0.25251099467277527, 0.18297183513641357, 0.8764070272445679, 0.12351720035076141, 0.9993575215339661, 0.9995117783546448, 0.9993985295295715, 0.9993760585784912, 0.9994496703147888, 0.999711811542511, 0.9999327659606934, 0.9996500015258789, 0.99992436170578, 0.999407172203064, 0.9996082186698914, 0.9990596175193787, 0.9995486736297607, 0.9991254210472107, 0.9998589754104614, 0.999427318572998, 0.9997649788856506, 0.9992431402206421, 0.9998058676719666, 0.9997064471244812, 0.9995013475418091, 0.9989874362945557, 0.9995705485343933, 0.9995975494384766, 0.999569833278656, 0.999909520149231, 0.998965859413147, 0.9999033212661743, 0.9998514652252197, 0.999302864074707, 0.9990866780281067, 0.9989513158798218, 0.9995790123939514, 0.999748170375824, 0.999251663684845, 0.9995633959770203, 0.9991382956504822, 0.9994251132011414, 0.9999026656150818, 0.9989385604858398, 0.9997334480285645, 0.9995136857032776, 0.8559491038322449, 0.14396525919437408, 0.9997469782829285, 0.999633252620697, 0.9995785355567932, 0.9990267157554626, 0.9987198114395142, 0.43780025839805603, 0.5621269941329956, 0.9990140199661255, 0.9995665550231934, 0.9982572793960571, 0.9989427924156189, 0.9997835755348206, 0.9988391399383545, 0.9992082118988037, 0.004058624152094126, 0.005073280539363623, 0.9903043508529663, 0.9993940591812134, 0.9992865324020386, 0.999815046787262, 0.9995166659355164, 0.9994075894355774, 0.9995362758636475, 0.999795138835907, 0.9989580512046814, 0.9994646906852722, 0.9995019435882568, 0.17359642684459686, 0.645840048789978, 0.18055519461631775, 0.9986528158187866, 0.9998153448104858, 0.9995257258415222, 0.9994325637817383, 0.9996329545974731, 0.1968798041343689, 0.8028806447982788, 0.9989525079727173, 0.9997812509536743, 0.9989930391311646, 0.9993124008178711, 0.9989923238754272, 0.999149739742279, 0.9990999698638916, 0.2228819727897644, 0.7766486406326294, 0.9992803931236267, 0.9994008541107178, 0.9994179010391235, 0.9990273118019104, 0.9996921420097351, 0.9990944862365723, 0.9983124136924744, 0.9997958540916443, 0.999272882938385, 0.9987614750862122, 0.9999133944511414, 0.9998661875724792, 0.9979267716407776, 0.9992191791534424, 0.31181877851486206, 0.6880848407745361, 0.9997658729553223, 0.9988591074943542, 0.999573290348053, 0.99991375207901, 0.9994388222694397, 0.9996176362037659, 0.9995558857917786, 0.9992543458938599, 0.999561607837677, 0.9997509717941284, 0.999919056892395, 0.998656153678894, 0.11159981787204742, 0.8876621723175049, 0.9987107515335083, 0.9142065048217773, 0.08569639921188354, 0.33952653408050537, 0.21956048905849457, 0.19369180500507355, 0.24704597890377045, 0.999473512172699, 0.9991449117660522, 0.9986215233802795, 0.9997062683105469, 0.9998003840446472, 0.9996844530105591, 0.9988818764686584, 0.9990756511688232, 0.9995688796043396, 0.6909733414649963, 0.3082914352416992, 0.9984745383262634, 0.9991355538368225, 0.9998809695243835, 0.9990850687026978, 0.9996227622032166, 0.999923050403595, 0.9998022317886353, 0.9998747706413269, 0.9995766878128052, 0.9992100596427917, 0.9992759823799133, 0.9989322423934937, 0.7105082273483276, 0.28899022936820984, 0.9991351366043091, 0.9994831681251526, 0.9999014735221863, 0.999640166759491, 0.9998413324356079, 0.9990694522857666, 0.9998787045478821, 0.9998345971107483, 0.9996539354324341, 0.998771607875824, 0.999669075012207, 0.376482754945755, 0.6235035061836243, 0.9999002814292908, 0.999614417552948, 0.9998950958251953, 0.9999152421951294, 0.9999271035194397, 0.9992652535438538, 0.9987090826034546, 0.9999221563339233, 0.999963104724884, 0.6516773700714111, 0.13703495264053345, 0.2110718935728073, 0.9997552037239075, 0.9993698000907898, 0.9993810057640076, 0.41718393564224243, 0.5824781060218811], \"Term\": [\"acrylic\", \"airline\", \"alarm\", \"alphabet\", \"angel\", \"animal\", \"antique\", \"apple\", \"apron\", \"art\", \"assorted\", \"babushka\", \"babushka\", \"backpack\", \"bag\", \"bakelike\", \"baking\", \"balloon\", \"bank\", \"bathroom\", \"bell\", \"bicycle\", \"bird\", \"birthday\", \"birthday\", \"biscuit\", \"board\", \"book\", \"botanical\", \"bottle\", \"bowl\", \"box\", \"box\", \"box\", \"box\", \"box\", \"boxed\", \"breakfast\", \"bunting\", \"butterfly\", \"cabinet\", \"cake\", \"cakestand\", \"calendar\", \"calm\", \"candle\", \"candle\", \"candle\", \"car\", \"card\", \"carry\", \"case\", \"cashcarry\", \"cat\", \"ceramic\", \"ceramic\", \"ceramic\", \"chain\", \"chalk\", \"chalkboard\", \"charlielola\", \"charlotte\", \"charlotte\", \"charm\", \"chest\", \"childrens\", \"chocolate\", \"christmas\", \"circus\", \"classic\", \"clip\", \"clock\", \"coat\", \"coffee\", \"colour\", \"colour\", \"colouring\", \"cookie\", \"cornice\", \"cosy\", \"cover\", \"cracker\", \"craft\", \"cream\", \"cream\", \"cream\", \"cream\", \"cross\", \"cup\", \"cushion\", \"cutlery\", \"cutter\", \"daisy\", \"decoration\", \"decorative\", \"deluxe\", \"design\", \"diet\", \"diner\", \"diner\", \"dinner\", \"dinner\", \"dish\", \"dog\", \"doily\", \"doll\", \"dolly\", \"door\", \"doormat\", \"doormat\", \"doormat\", \"doorstop\", \"doorstop\", \"drawer\", \"drawer\", \"drawing\", \"edwardian\", \"egg\", \"enamel\", \"english\", \"fairy\", \"feather\", \"felt\", \"feltcraft\", \"finish\", \"flag\", \"floral\", \"flower\", \"fob\", \"folding\", \"folkart\", \"frame\", \"french\", \"friend\", \"frying\", \"game\", \"game\", \"garden\", \"gardener\", \"garland\", \"giant\", \"gift\", \"gin\", \"gingham\", \"girl\", \"glass\", \"glass\", \"glitter\", \"gloss\", \"gold\", \"green\", \"green\", \"green\", \"green\", \"grey\", \"gumball\", \"hand\", \"hanging\", \"happy\", \"harmonica\", \"heart\", \"heart\", \"herb\", \"hldr\", \"holder\", \"home\", \"hook\", \"horse\", \"house\", \"ivory\", \"jack\", \"jam\", \"jar\", \"jewellery\", \"jigsaw\", \"jingle\", \"jug\", \"jumbo\", \"keep\", \"key\", \"kid\", \"kid\", \"kit\", \"kitchen\", \"knack\", \"kneeling\", \"knick\", \"knob\", \"lace\", \"landmark\", \"lantern\", \"large\", \"large\", \"leaf\", \"led\", \"letter\", \"lid\", \"light\", \"light\", \"lip\", \"list\", \"loaf\", \"lola\", \"london\", \"london\", \"london\", \"lunch\", \"lunch\", \"magic\", \"magnet\", \"make\", \"making\", \"match\", \"medium\", \"metal\", \"milk\", \"mini\", \"mirror\", \"money\", \"morris\", \"mould\", \"mouse\", \"mug\", \"mushroom\", \"napkin\", \"natural\", \"night\", \"notebook\", \"one\", \"ornament\", \"owl\", \"pad\", \"painted\", \"paisley\", \"pan\", \"pantry\", \"paper\", \"parade\", \"parasol\", \"parisienne\", \"park\", \"party\", \"pc\", \"pear\", \"peg\", \"pen\", \"pencil\", \"person\", \"photo\", \"picture\", \"piece\", \"piece\", \"plaster\", \"plate\", \"playing\", \"please\", \"pocket\", \"polkadot\", \"polkadot\", \"popcorn\", \"poppy\", \"portrait\", \"postage\", \"pot\", \"pretty\", \"princess\", \"puncture\", \"puncture\", \"puncture\", \"purple\", \"purse\", \"rabbit\", \"rack\", \"recipe\", \"reel\", \"regency\", \"reindeer\", \"repair\", \"retro\", \"retrospot\", \"retrospot\", \"retrospot\", \"rex\", \"ribbon\", \"ring\", \"rocking\", \"roll\", \"rose\", \"rose\", \"rotating\", \"round\", \"ruler\", \"rustic\", \"santa\", \"saucer\", \"scale\", \"scandinavian\", \"scandinavian\", \"scented\", \"school\", \"scottie\", \"scotty\", \"sewing\", \"shed\", \"shelf\", \"shopper\", \"shopping\", \"shoulder\", \"sign\", \"silver\", \"single\", \"sketchbook\", \"skull\", \"skull\", \"slate\", \"sleigh\", \"snack\", \"spaceboy\", \"spoon\", \"spot\", \"spotty\", \"square\", \"stamp\", \"stand\", \"star\", \"stationery\", \"stick\", \"stick\", \"stocking\", \"storage\", \"storage\", \"strawberry\", \"strawberry\", \"strawberry\", \"strawberry\", \"stripe\", \"style\", \"sugar\", \"suki\", \"sweet\", \"sweetheart\", \"swirly\", \"sympathy\", \"table\", \"tag\", \"tag\", \"tail\", \"tall\", \"tea\", \"teacup\", \"tier\", \"tin\", \"tissue\", \"tlight\", \"tlights\", \"toadstool\", \"toilet\", \"tonic\", \"top\", \"top\", \"towel\", \"toy\", \"traditional\", \"travel\", \"tray\", \"treasure\", \"tree\", \"trinket\", \"tube\", \"tv\", \"union\", \"vintage\", \"vintage\", \"wall\", \"wallet\", \"warmer\", \"water\", \"wicker\", \"wire\", \"wish\", \"wood\", \"wooden\", \"woodland\", \"woodland\", \"woodland\", \"wrap\", \"wreath\", \"yellow\", \"zinc\", \"zinc\"]}, \"R\": 30, \"lambda.step\": 0.01, \"plot.opts\": {\"xlab\": \"PC1\", \"ylab\": \"PC2\"}, \"topic.order\": [3, 10, 5, 9, 7, 6, 4, 8, 1, 2]};\n",
       "\n",
       "function LDAvis_load_lib(url, callback){\n",
       "  var s = document.createElement('script');\n",
       "  s.src = url;\n",
       "  s.async = true;\n",
       "  s.onreadystatechange = s.onload = callback;\n",
       "  s.onerror = function(){console.warn(\"failed to load library \" + url);};\n",
       "  document.getElementsByTagName(\"head\")[0].appendChild(s);\n",
       "}\n",
       "\n",
       "if(typeof(LDAvis) !== \"undefined\"){\n",
       "   // already loaded: just create the visualization\n",
       "   !function(LDAvis){\n",
       "       new LDAvis(\"#\" + \"ldavis_el152722279343541192976821766\", ldavis_el152722279343541192976821766_data);\n",
       "   }(LDAvis);\n",
       "}else if(typeof define === \"function\" && define.amd){\n",
       "   // require.js is available: use it to load d3/LDAvis\n",
       "   require.config({paths: {d3: \"https://cdnjs.cloudflare.com/ajax/libs/d3/3.5.5/d3.min\"}});\n",
       "   require([\"d3\"], function(d3){\n",
       "      window.d3 = d3;\n",
       "      LDAvis_load_lib(\"https://cdn.rawgit.com/bmabey/pyLDAvis/files/ldavis.v1.0.0.js\", function(){\n",
       "        new LDAvis(\"#\" + \"ldavis_el152722279343541192976821766\", ldavis_el152722279343541192976821766_data);\n",
       "      });\n",
       "    });\n",
       "}else{\n",
       "    // require.js not available: dynamically load d3 & LDAvis\n",
       "    LDAvis_load_lib(\"https://cdnjs.cloudflare.com/ajax/libs/d3/3.5.5/d3.min.js\", function(){\n",
       "         LDAvis_load_lib(\"https://cdn.rawgit.com/bmabey/pyLDAvis/files/ldavis.v1.0.0.js\", function(){\n",
       "                 new LDAvis(\"#\" + \"ldavis_el152722279343541192976821766\", ldavis_el152722279343541192976821766_data);\n",
       "            })\n",
       "         });\n",
       "}\n",
       "</script>"
      ],
      "text/plain": [
       "PreparedData(topic_coordinates=              x         y  topics  cluster       Freq\n",
       "topic                                                \n",
       "2     -0.263847  0.014857       1        1  13.762842\n",
       "9      0.093575  0.193334       2        1  12.000051\n",
       "4     -0.345028 -0.100852       3        1  11.926070\n",
       "8      0.130285 -0.147548       4        1  10.569513\n",
       "6     -0.080920  0.083936       5        1   9.814434\n",
       "5      0.046172  0.275351       6        1   9.404917\n",
       "3      0.136586 -0.133649       7        1   8.979271\n",
       "7      0.086636  0.052055       8        1   8.185227\n",
       "0      0.102678  0.041912       9        1   8.073056\n",
       "1      0.093862 -0.279397      10        1   7.284612, topic_info=           Term          Freq         Total Category  logprob  loglift\n",
       "91          bag  35043.000000  35043.000000  Default  30.0000  30.0000\n",
       "105   christmas  25823.000000  25823.000000  Default  29.0000  29.0000\n",
       "92       design  21935.000000  21935.000000  Default  28.0000  28.0000\n",
       "46      vintage  27135.000000  27135.000000  Default  27.0000  27.0000\n",
       "141        cake  16833.000000  16833.000000  Default  26.0000  26.0000\n",
       "...         ...           ...           ...      ...      ...      ...\n",
       "296       mouse    797.801086    798.698547  Topic10  -4.8414   2.6183\n",
       "337     cornice    754.876282    755.773743  Topic10  -4.8967   2.6182\n",
       "1816   puncture    976.154724    985.555603  Topic10  -4.6397   2.6098\n",
       "118      drawer   1318.311890   4069.584961  Topic10  -4.3392   1.4922\n",
       "158     ceramic   1505.923462   6462.192383  Topic10  -4.2061   1.1628\n",
       "\n",
       "[390 rows x 6 columns], token_table=      Topic      Freq      Term\n",
       "term                           \n",
       "168       4  0.998146   acrylic\n",
       "163       1  0.998702   airline\n",
       "63        6  0.999876     alarm\n",
       "47        7  0.999863  alphabet\n",
       "431       3  0.999351     angel\n",
       "...     ...       ...       ...\n",
       "424       3  0.999755      wrap\n",
       "497       4  0.999370    wreath\n",
       "61        5  0.999381    yellow\n",
       "199       3  0.417184      zinc\n",
       "199       5  0.582478      zinc\n",
       "\n",
       "[390 rows x 3 columns], R=30, lambda_step=0.01, plot_opts={'xlab': 'PC1', 'ylab': 'PC2'}, topic_order=[3, 10, 5, 9, 7, 6, 4, 8, 1, 2])"
      ]
     },
     "execution_count": 50,
     "metadata": {},
     "output_type": "execute_result"
    }
   ],
   "source": [
    "import pyLDAvis.gensim\n",
    "pyLDAvis.enable_notebook()\n",
    "pyLDAvis.gensim.prepare(ldamodel, corpus, dictionary)"
   ]
  },
  {
   "cell_type": "markdown",
   "metadata": {},
   "source": []
  },
  {
   "cell_type": "code",
   "execution_count": 51,
   "metadata": {},
   "outputs": [],
   "source": [
    "from sklearn.feature_extraction.text import CountVectorizer\n",
    "\n",
    "count_vect = CountVectorizer(max_df=0.8, min_df=2, stop_words=en_stop)\n",
    "doc_term_matrix = count_vect.fit_transform(df_new['description'].values.astype('U'))"
   ]
  },
  {
   "cell_type": "code",
   "execution_count": 52,
   "metadata": {},
   "outputs": [
    {
     "data": {
      "text/plain": [
       "LatentDirichletAllocation(batch_size=128, doc_topic_prior=None,\n",
       "                          evaluate_every=-1, learning_decay=0.7,\n",
       "                          learning_method='batch', learning_offset=10.0,\n",
       "                          max_doc_update_iter=100, max_iter=10,\n",
       "                          mean_change_tol=0.001, n_components=10, n_jobs=None,\n",
       "                          perp_tol=0.1, random_state=42, topic_word_prior=None,\n",
       "                          total_samples=1000000.0, verbose=0)"
      ]
     },
     "execution_count": 52,
     "metadata": {},
     "output_type": "execute_result"
    }
   ],
   "source": [
    "from sklearn.decomposition import LatentDirichletAllocation\n",
    "\n",
    "LDA = LatentDirichletAllocation(n_components=10, random_state=42)\n",
    "LDA.fit(doc_term_matrix)"
   ]
  },
  {
   "cell_type": "code",
   "execution_count": 54,
   "metadata": {},
   "outputs": [
    {
     "name": "stdout",
     "output_type": "stream",
     "text": [
      "Top 10 words for topic #1:\n",
      "['hand', 'warmer', 'charlotte', 'paisley', 'retrospot', 'vintage', 'design', 'lunch', 'jumbo', 'bag']\n",
      "\n",
      "\n",
      "Top 10 words for topic #2:\n",
      "['stand', 'hanging', 'tier', 'light', 'silver', 'vintage', 'retrospot', 'glass', 'water', 'bottle']\n",
      "\n",
      "\n",
      "Top 10 words for topic #3:\n",
      "['english', 'trinket', 'lights', 'hook', 'craft', 'green', 'christmas', 'box', 'paper', 'rose']\n",
      "\n",
      "\n",
      "Top 10 words for topic #4:\n",
      "['zinc', 'wall', 'cookie', '50', 'ivory', 'vintage', 'star', 'decoration', 'wooden', 'christmas']\n",
      "\n",
      "\n",
      "Top 10 words for topic #5:\n",
      "['bunting', 'pencils', 'candles', 'tube', 'kit', 'polkadot', 'wicker', 'party', 'retrospot', 'large']\n",
      "\n",
      "\n",
      "Top 10 words for topic #6:\n",
      "['edwardian', 'kitchen', 'wood', 'sweet', 'french', 'feltcraft', 'doormat', 'home', 'sign', 'metal']\n",
      "\n",
      "\n",
      "Top 10 words for topic #7:\n",
      "['box', 'assorted', 'birthday', 'card', 'ceramic', 'colour', '12', 'hanging', 'light', 'holder']\n",
      "\n",
      "\n",
      "Top 10 words for topic #8:\n",
      "['box', 'traditional', 'photo', 'tins', 'wooden', 'design', 'frame', 'pantry', 'girl', 'dolly']\n",
      "\n",
      "\n",
      "Top 10 words for topic #9:\n",
      "['bakelike', 'alarm', '20', 'clock', '60', 'vintage', 'fairy', 'paper', 'cases', 'cake']\n",
      "\n",
      "\n",
      "Top 10 words for topic #10:\n",
      "['keep', 'cup', 'cutlery', 'design', 'childrens', 'box', 'mug', 'spaceboy', 'retrospot', 'tea']\n",
      "\n",
      "\n"
     ]
    }
   ],
   "source": [
    "for i,topic in enumerate(LDA.components_):\n",
    "    print('Top 10 words for topic #{}:'.format(i+1))\n",
    "    print([count_vect.get_feature_names()[i] for i in topic.argsort()[-10:]])\n",
    "    print('\\n')"
   ]
  },
  {
   "cell_type": "markdown",
   "metadata": {},
   "source": []
  },
  {
   "cell_type": "markdown",
   "metadata": {},
   "source": [
    "Summary:\n",
    "\n",
    "The customer with the highest number of orders comes from the United Kingdom (UK) (since it is a UK-based company). \n",
    "\n",
    "The customer with the highest money spent on purchases comes from Netherlands\n",
    "\n",
    "Usualy the highest sales accure in December (Dataset only until 2011-12-09)\n",
    "\n",
    "Day 1 to 8 is the busiest day, after that sale start to decline\n",
    "\n",
    "Majority of sale accure at 10:00 to 15:00, peak at 12:00\n",
    "\n",
    "Most transaction accure during work hours\n",
    "\n",
    "There are no transactions on Saturday between 1st Dec 2010 - 9th Dec 2011\n",
    "\n",
    "The number of orders received by the company tends to increases from Monday to Thursday and decrese afterward\n"
   ]
  },
  {
   "cell_type": "markdown",
   "metadata": {},
   "source": [
    "\n",
    "\n",
    "Therefore, the TOP 5 countries (including UK) that place the highest number of orders are as below:\n",
    "United Kingdom\n",
    "Germany\n",
    "France\n",
    "Ireland (EIRE)\n",
    "Spain\n",
    "\n",
    "\n",
    "Therefore, the TOP 5 countries (including UK) that spend the most money on purchases are as below:\n",
    "United Kingdom\n",
    "Netherlands\n",
    "Ireland (EIRE)\n",
    "Germany\n",
    "France\n",
    "\n"
   ]
  }
 ],
 "metadata": {
  "kernelspec": {
   "display_name": "Python 3",
   "language": "python",
   "name": "python3"
  },
  "language_info": {
   "codemirror_mode": {
    "name": "ipython",
    "version": 3
   },
   "file_extension": ".py",
   "mimetype": "text/x-python",
   "name": "python",
   "nbconvert_exporter": "python",
   "pygments_lexer": "ipython3",
   "version": "3.7.6"
  }
 },
 "nbformat": 4,
 "nbformat_minor": 4
}
